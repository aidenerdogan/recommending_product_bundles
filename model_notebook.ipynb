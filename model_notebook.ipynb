{
 "cells": [
  {
   "cell_type": "markdown",
   "metadata": {},
   "source": [
    "# Product Bundles Recommender System on E-commerce Data by Association Rules\n",
    "## Aiden Ahmet Erdogan"
   ]
  },
  {
   "cell_type": "markdown",
   "metadata": {},
   "source": [
    "The developed system aims to elevate the online shopping experience through the integration of a recommendation engine, utilizing a public dataset sourced from the UCI Machine Learning Repository. This dataset encompasses a year's worth of transactional data from an online store.\n",
    "\n",
    "The primary objective is to optimize product bundle recommendations by leveraging association rules derived from the dataset. The goal is to maximize the likelihood of purchase by suggesting relevant product bundles for each item. In instances where recommendations are lacking or insufficient for a particular product, we address the issue by completing or recommending from the most frequently suggested options to mitigate the cold start problem.\n",
    "\n",
    "This system is designed to proactively address customer preferences within the online store environment by providing personalized product recommendations based on individual selections.\n",
    "\n",
    "The advantages of such a system are extensive, benefiting both customers and the company:\n",
    "\n",
    "- **For Customers:** Personalized recommendations streamline the product discovery process, enhancing user satisfaction and overall shopping experience. By facilitating the search for future purchases, customers are more inclined to return, fostering increased loyalty.\n",
    "\n",
    "- **For the Company:** Implementation of a recommendation engine cultivates customer loyalty, thereby reducing churn rates and associated costs linked to acquiring new customers. Additionally, through cross-selling complementary products, the company can diversify revenue streams. In instances where recommendations are insufficient, strategies are employed to address the cold start problem by completing or recommending from the most commonly suggested options."
   ]
  },
  {
   "cell_type": "markdown",
   "metadata": {},
   "source": [
    "# Set up environment: Import some libraries & data transformation"
   ]
  },
  {
   "cell_type": "code",
   "execution_count": 1,
   "metadata": {},
   "outputs": [],
   "source": [
    "from mlxtend.frequent_patterns import fpgrowth, association_rules # Recommendation Algorithm - FP-Growth\n",
    "\n",
    "import numpy as np # linear algebra\n",
    "import pandas as pd # data manipulations\n",
    "import seaborn as sns # used for plot interactive graph\n",
    "import matplotlib.pyplot as plt # this is used for the plots\n",
    "\n",
    "%matplotlib inline\n",
    "import time\n"
   ]
  },
  {
   "cell_type": "markdown",
   "metadata": {},
   "source": [
    "# Loading Dataset"
   ]
  },
  {
   "cell_type": "code",
   "execution_count": 2,
   "metadata": {},
   "outputs": [],
   "source": [
    "data = pd.read_csv('data.csv', encoding='latin1') # or encoding='ISO-8859-1' # import data from a csv file"
   ]
  },
  {
   "cell_type": "markdown",
   "metadata": {},
   "source": [
    "# Data Analysis"
   ]
  },
  {
   "cell_type": "code",
   "execution_count": 3,
   "metadata": {},
   "outputs": [
    {
     "data": {
      "text/html": [
       "<div>\n",
       "<style scoped>\n",
       "    .dataframe tbody tr th:only-of-type {\n",
       "        vertical-align: middle;\n",
       "    }\n",
       "\n",
       "    .dataframe tbody tr th {\n",
       "        vertical-align: top;\n",
       "    }\n",
       "\n",
       "    .dataframe thead th {\n",
       "        text-align: right;\n",
       "    }\n",
       "</style>\n",
       "<table border=\"1\" class=\"dataframe\">\n",
       "  <thead>\n",
       "    <tr style=\"text-align: right;\">\n",
       "      <th></th>\n",
       "      <th>InvoiceNo</th>\n",
       "      <th>StockCode</th>\n",
       "      <th>Description</th>\n",
       "      <th>Quantity</th>\n",
       "      <th>InvoiceDate</th>\n",
       "      <th>UnitPrice</th>\n",
       "      <th>CustomerID</th>\n",
       "      <th>Country</th>\n",
       "    </tr>\n",
       "  </thead>\n",
       "  <tbody>\n",
       "    <tr>\n",
       "      <th>0</th>\n",
       "      <td>536365</td>\n",
       "      <td>85123A</td>\n",
       "      <td>WHITE HANGING HEART T-LIGHT HOLDER</td>\n",
       "      <td>6</td>\n",
       "      <td>12/1/2010 8:26</td>\n",
       "      <td>2.55</td>\n",
       "      <td>17850.0</td>\n",
       "      <td>United Kingdom</td>\n",
       "    </tr>\n",
       "    <tr>\n",
       "      <th>1</th>\n",
       "      <td>536365</td>\n",
       "      <td>71053</td>\n",
       "      <td>WHITE METAL LANTERN</td>\n",
       "      <td>6</td>\n",
       "      <td>12/1/2010 8:26</td>\n",
       "      <td>3.39</td>\n",
       "      <td>17850.0</td>\n",
       "      <td>United Kingdom</td>\n",
       "    </tr>\n",
       "    <tr>\n",
       "      <th>2</th>\n",
       "      <td>536365</td>\n",
       "      <td>84406B</td>\n",
       "      <td>CREAM CUPID HEARTS COAT HANGER</td>\n",
       "      <td>8</td>\n",
       "      <td>12/1/2010 8:26</td>\n",
       "      <td>2.75</td>\n",
       "      <td>17850.0</td>\n",
       "      <td>United Kingdom</td>\n",
       "    </tr>\n",
       "    <tr>\n",
       "      <th>3</th>\n",
       "      <td>536365</td>\n",
       "      <td>84029G</td>\n",
       "      <td>KNITTED UNION FLAG HOT WATER BOTTLE</td>\n",
       "      <td>6</td>\n",
       "      <td>12/1/2010 8:26</td>\n",
       "      <td>3.39</td>\n",
       "      <td>17850.0</td>\n",
       "      <td>United Kingdom</td>\n",
       "    </tr>\n",
       "    <tr>\n",
       "      <th>4</th>\n",
       "      <td>536365</td>\n",
       "      <td>84029E</td>\n",
       "      <td>RED WOOLLY HOTTIE WHITE HEART.</td>\n",
       "      <td>6</td>\n",
       "      <td>12/1/2010 8:26</td>\n",
       "      <td>3.39</td>\n",
       "      <td>17850.0</td>\n",
       "      <td>United Kingdom</td>\n",
       "    </tr>\n",
       "  </tbody>\n",
       "</table>\n",
       "</div>"
      ],
      "text/plain": [
       "  InvoiceNo StockCode                          Description  Quantity  \\\n",
       "0    536365    85123A   WHITE HANGING HEART T-LIGHT HOLDER         6   \n",
       "1    536365     71053                  WHITE METAL LANTERN         6   \n",
       "2    536365    84406B       CREAM CUPID HEARTS COAT HANGER         8   \n",
       "3    536365    84029G  KNITTED UNION FLAG HOT WATER BOTTLE         6   \n",
       "4    536365    84029E       RED WOOLLY HOTTIE WHITE HEART.         6   \n",
       "\n",
       "      InvoiceDate  UnitPrice  CustomerID         Country  \n",
       "0  12/1/2010 8:26       2.55     17850.0  United Kingdom  \n",
       "1  12/1/2010 8:26       3.39     17850.0  United Kingdom  \n",
       "2  12/1/2010 8:26       2.75     17850.0  United Kingdom  \n",
       "3  12/1/2010 8:26       3.39     17850.0  United Kingdom  \n",
       "4  12/1/2010 8:26       3.39     17850.0  United Kingdom  "
      ]
     },
     "execution_count": 3,
     "metadata": {},
     "output_type": "execute_result"
    }
   ],
   "source": [
    "data.head()"
   ]
  },
  {
   "cell_type": "code",
   "execution_count": 4,
   "metadata": {},
   "outputs": [
    {
     "name": "stdout",
     "output_type": "stream",
     "text": [
      "<class 'pandas.core.frame.DataFrame'>\n",
      "RangeIndex: 541909 entries, 0 to 541908\n",
      "Data columns (total 8 columns):\n",
      " #   Column       Non-Null Count   Dtype  \n",
      "---  ------       --------------   -----  \n",
      " 0   InvoiceNo    541909 non-null  object \n",
      " 1   StockCode    541909 non-null  object \n",
      " 2   Description  540455 non-null  object \n",
      " 3   Quantity     541909 non-null  int64  \n",
      " 4   InvoiceDate  541909 non-null  object \n",
      " 5   UnitPrice    541909 non-null  float64\n",
      " 6   CustomerID   406829 non-null  float64\n",
      " 7   Country      541909 non-null  object \n",
      "dtypes: float64(2), int64(1), object(5)\n",
      "memory usage: 33.1+ MB\n"
     ]
    }
   ],
   "source": [
    "data.info()"
   ]
  },
  {
   "cell_type": "markdown",
   "metadata": {},
   "source": [
    "Analysis Summary:\n",
    "\n",
    "The dataset comprises 541,909 records distributed across 8 columns. Each column is briefly described as follows:\n",
    "\n",
    "1. InvoiceNo: Object data type indicating transaction invoice numbers, potentially representing multiple items per transaction.\n",
    "2. StockCode: Object data type representing unique product codes.\n",
    "3. Description: Object data type containing product descriptions, with 540,455 non-null entries.\n",
    "4. Quantity: Integer column denoting the quantity of products bought per transaction.\n",
    "5. InvoiceDate: Datetime column recording transaction timestamps.\n",
    "6. UnitPrice: Float column indicating the unit price of each product.\n",
    "7. CustomerID: Float column containing customer IDs, with 406,829 non-null entries.\n",
    "8. Country: Object column specifying the transaction location country.\n",
    "\n",
    "Initial observations reveal missing values in the Description and CustomerID columns. The InvoiceDate column is appropriately formatted for time series analysis. Additionally, the presence of repeated CustomerID entries suggests multiple transactions by the same customer.\n",
    "\n",
    "Subsequent steps entail comprehensive data cleaning to handle missing values and potential errors, as well as feature engineering to aid in achieving project objectives."
   ]
  },
  {
   "cell_type": "code",
   "execution_count": 5,
   "metadata": {},
   "outputs": [
    {
     "data": {
      "text/html": [
       "<div>\n",
       "<style scoped>\n",
       "    .dataframe tbody tr th:only-of-type {\n",
       "        vertical-align: middle;\n",
       "    }\n",
       "\n",
       "    .dataframe tbody tr th {\n",
       "        vertical-align: top;\n",
       "    }\n",
       "\n",
       "    .dataframe thead th {\n",
       "        text-align: right;\n",
       "    }\n",
       "</style>\n",
       "<table border=\"1\" class=\"dataframe\">\n",
       "  <thead>\n",
       "    <tr style=\"text-align: right;\">\n",
       "      <th></th>\n",
       "      <th>count</th>\n",
       "      <th>mean</th>\n",
       "      <th>std</th>\n",
       "      <th>min</th>\n",
       "      <th>25%</th>\n",
       "      <th>50%</th>\n",
       "      <th>75%</th>\n",
       "      <th>max</th>\n",
       "    </tr>\n",
       "  </thead>\n",
       "  <tbody>\n",
       "    <tr>\n",
       "      <th>Quantity</th>\n",
       "      <td>541909.0</td>\n",
       "      <td>9.552250</td>\n",
       "      <td>218.081158</td>\n",
       "      <td>-80995.00</td>\n",
       "      <td>1.00</td>\n",
       "      <td>3.00</td>\n",
       "      <td>10.00</td>\n",
       "      <td>80995.0</td>\n",
       "    </tr>\n",
       "    <tr>\n",
       "      <th>UnitPrice</th>\n",
       "      <td>541909.0</td>\n",
       "      <td>4.611114</td>\n",
       "      <td>96.759853</td>\n",
       "      <td>-11062.06</td>\n",
       "      <td>1.25</td>\n",
       "      <td>2.08</td>\n",
       "      <td>4.13</td>\n",
       "      <td>38970.0</td>\n",
       "    </tr>\n",
       "    <tr>\n",
       "      <th>CustomerID</th>\n",
       "      <td>406829.0</td>\n",
       "      <td>15287.690570</td>\n",
       "      <td>1713.600303</td>\n",
       "      <td>12346.00</td>\n",
       "      <td>13953.00</td>\n",
       "      <td>15152.00</td>\n",
       "      <td>16791.00</td>\n",
       "      <td>18287.0</td>\n",
       "    </tr>\n",
       "  </tbody>\n",
       "</table>\n",
       "</div>"
      ],
      "text/plain": [
       "               count          mean          std       min       25%       50%  \\\n",
       "Quantity    541909.0      9.552250   218.081158 -80995.00      1.00      3.00   \n",
       "UnitPrice   541909.0      4.611114    96.759853 -11062.06      1.25      2.08   \n",
       "CustomerID  406829.0  15287.690570  1713.600303  12346.00  13953.00  15152.00   \n",
       "\n",
       "                 75%      max  \n",
       "Quantity       10.00  80995.0  \n",
       "UnitPrice       4.13  38970.0  \n",
       "CustomerID  16791.00  18287.0  "
      ]
     },
     "execution_count": 5,
     "metadata": {},
     "output_type": "execute_result"
    }
   ],
   "source": [
    "# Summerize statustics\n",
    "\n",
    "# Summary statistics for numerical variables\n",
    "data.describe().T"
   ]
  },
  {
   "cell_type": "code",
   "execution_count": 6,
   "metadata": {},
   "outputs": [
    {
     "data": {
      "text/html": [
       "<div>\n",
       "<style scoped>\n",
       "    .dataframe tbody tr th:only-of-type {\n",
       "        vertical-align: middle;\n",
       "    }\n",
       "\n",
       "    .dataframe tbody tr th {\n",
       "        vertical-align: top;\n",
       "    }\n",
       "\n",
       "    .dataframe thead th {\n",
       "        text-align: right;\n",
       "    }\n",
       "</style>\n",
       "<table border=\"1\" class=\"dataframe\">\n",
       "  <thead>\n",
       "    <tr style=\"text-align: right;\">\n",
       "      <th></th>\n",
       "      <th>count</th>\n",
       "      <th>unique</th>\n",
       "      <th>top</th>\n",
       "      <th>freq</th>\n",
       "    </tr>\n",
       "  </thead>\n",
       "  <tbody>\n",
       "    <tr>\n",
       "      <th>InvoiceNo</th>\n",
       "      <td>541909</td>\n",
       "      <td>25900</td>\n",
       "      <td>573585</td>\n",
       "      <td>1114</td>\n",
       "    </tr>\n",
       "    <tr>\n",
       "      <th>StockCode</th>\n",
       "      <td>541909</td>\n",
       "      <td>4070</td>\n",
       "      <td>85123A</td>\n",
       "      <td>2313</td>\n",
       "    </tr>\n",
       "    <tr>\n",
       "      <th>Description</th>\n",
       "      <td>540455</td>\n",
       "      <td>4223</td>\n",
       "      <td>WHITE HANGING HEART T-LIGHT HOLDER</td>\n",
       "      <td>2369</td>\n",
       "    </tr>\n",
       "    <tr>\n",
       "      <th>InvoiceDate</th>\n",
       "      <td>541909</td>\n",
       "      <td>23260</td>\n",
       "      <td>10/31/2011 14:41</td>\n",
       "      <td>1114</td>\n",
       "    </tr>\n",
       "    <tr>\n",
       "      <th>Country</th>\n",
       "      <td>541909</td>\n",
       "      <td>38</td>\n",
       "      <td>United Kingdom</td>\n",
       "      <td>495478</td>\n",
       "    </tr>\n",
       "  </tbody>\n",
       "</table>\n",
       "</div>"
      ],
      "text/plain": [
       "              count unique                                 top    freq\n",
       "InvoiceNo    541909  25900                              573585    1114\n",
       "StockCode    541909   4070                              85123A    2313\n",
       "Description  540455   4223  WHITE HANGING HEART T-LIGHT HOLDER    2369\n",
       "InvoiceDate  541909  23260                    10/31/2011 14:41    1114\n",
       "Country      541909     38                      United Kingdom  495478"
      ]
     },
     "execution_count": 6,
     "metadata": {},
     "output_type": "execute_result"
    }
   ],
   "source": [
    "# Summary statistics for categorical variables\n",
    "data.describe(include='object').T"
   ]
  },
  {
   "cell_type": "markdown",
   "metadata": {},
   "source": [
    "Findings Summary:\n",
    "\n",
    "InvoiceDate:\n",
    "- Records transaction date and time.\n",
    "\n",
    "Quantity:\n",
    "- Average transaction quantity: 9.55.\n",
    "- Wide range: -80995 to 80995, negative values denote returns.\n",
    "- High standard deviation suggests data spread and outliers.\n",
    "\n",
    "UnitPrice:\n",
    "- Average unit price: $4.61.\n",
    "- Range: -11062.06 to $38970, indicating data errors.\n",
    "- Outliers suggested by large range.\n",
    "\n",
    "CustomerID:\n",
    "- 406,829 non-null entries, indicating missing values.\n",
    "- IDs range from 12346 to 18287, aiding customer identification.\n",
    "\n",
    "InvoiceNo:\n",
    "- 25,900 unique invoices, representing separate transactions.\n",
    "- Most frequent: 573585, occurring 1114 times.\n",
    "\n",
    "StockCode:\n",
    "- 4,070 unique stock codes.\n",
    "- Most frequent: 85123A, appearing 2313 times.\n",
    "\n",
    "Description:\n",
    "- 4,223 unique product descriptions.\n",
    "- Most frequent: \"WHITE HANGING HEART T-LIGHT HOLDER,\" 2369 occurrences.\n",
    "- Missing values need treatment.\n",
    "\n",
    "Country:\n",
    "- Transactions from 38 countries.\n",
    "- Predominantly from the UK (91.4%)."
   ]
  },
  {
   "cell_type": "markdown",
   "metadata": {},
   "source": [
    "# Cleaning"
   ]
  },
  {
   "cell_type": "markdown",
   "metadata": {},
   "source": [
    "Convert InvoiceDate to datetime type\n"
   ]
  },
  {
   "cell_type": "code",
   "execution_count": 7,
   "metadata": {},
   "outputs": [],
   "source": [
    "data['InvoiceDate'] = pd.to_datetime(data['InvoiceDate'])"
   ]
  },
  {
   "cell_type": "markdown",
   "metadata": {},
   "source": [
    "Initially, I will determine the percentage of missing values present in each column, followed by selecting the most effective strategy to address them:"
   ]
  },
  {
   "cell_type": "code",
   "execution_count": 8,
   "metadata": {},
   "outputs": [
    {
     "data": {
      "image/png": "[encoded data removed]",
      "text/plain": [
       "<Figure size 1500x400 with 1 Axes>"
      ]
     },
     "metadata": {},
     "output_type": "display_data"
    }
   ],
   "source": [
    "# Find and calculate the percentage of missing values\n",
    "missing_data = data.isnull().sum()\n",
    "missing_percentage = (missing_data[missing_data > 0] / data.shape[0]) * 100\n",
    "\n",
    "# Prepare values by sorting\n",
    "missing_percentage.sort_values(ascending=True, inplace=True)\n",
    "\n",
    "# Plot the bar-chart\n",
    "fig, ax = plt.subplots(figsize=(15, 4))\n",
    "ax.barh(missing_percentage.index, missing_percentage, color='red')\n",
    "\n",
    "# Annotate the values and indexes\n",
    "for i, (value, name) in enumerate(zip(missing_percentage, missing_percentage.index)):\n",
    "    ax.text(value+0.5, i, f\"{value:.2f}%\", ha='left', va='center', fontweight='bold', fontsize=18, color='black')\n",
    "# Set X-axis limit\n",
    "ax.set_xlim([0, 40])\n",
    "# Add title and xlabel\n",
    "plt.title(\"Percentage of Missing Values\", fontweight='bold', fontsize=22)\n",
    "plt.xlabel('Percentages (%)', fontsize=16)\n",
    "plt.show()"
   ]
  },
  {
   "cell_type": "markdown",
   "metadata": {},
   "source": [
    "Handling Missing Values Approach:\n",
    "\n",
    "CustomerID (24.93% missing values):\n",
    "\n",
    "- The CustomerID column has a substantial portion of missing data, approximately a quarter. Since this column is fundamental for constructing a recommendation system based on customer behavior, imputing such a large percentage of missing values could introduce significant bias or noise.\n",
    "\n",
    "- Additionally, accurate customer identifiers are crucial for effective product recommendations. Therefore, the most appropriate strategy appears to be removing rows with missing CustomerIDs to ensure the integrity of the analysis.\n",
    "\n",
    "Description (0.27% missing values):\n",
    "\n",
    "- The Description column has a minor proportion of missing values. However, inconsistencies in data suggest that not all StockCodes correspond to consistent Descriptions, indicating data quality issues.\n",
    "\n",
    "- Due to these inconsistencies, imputing missing descriptions based solely on StockCodes may not yield reliable results. Given the low percentage of missing values and the potential for error propagation, removing rows with missing Descriptions seems prudent to maintain data reliability.\n",
    "\n",
    "By eliminating rows with missing values in the CustomerID and Description columns, the objective is to establish a cleaner and more dependable dataset, crucial for accurate and effective recommendation system outcomes."
   ]
  },
  {
   "cell_type": "code",
   "execution_count": 9,
   "metadata": {},
   "outputs": [
    {
     "data": {
      "text/html": [
       "<div>\n",
       "<style scoped>\n",
       "    .dataframe tbody tr th:only-of-type {\n",
       "        vertical-align: middle;\n",
       "    }\n",
       "\n",
       "    .dataframe tbody tr th {\n",
       "        vertical-align: top;\n",
       "    }\n",
       "\n",
       "    .dataframe thead th {\n",
       "        text-align: right;\n",
       "    }\n",
       "</style>\n",
       "<table border=\"1\" class=\"dataframe\">\n",
       "  <thead>\n",
       "    <tr style=\"text-align: right;\">\n",
       "      <th></th>\n",
       "      <th>InvoiceNo</th>\n",
       "      <th>StockCode</th>\n",
       "      <th>Description</th>\n",
       "      <th>Quantity</th>\n",
       "      <th>InvoiceDate</th>\n",
       "      <th>UnitPrice</th>\n",
       "      <th>CustomerID</th>\n",
       "      <th>Country</th>\n",
       "    </tr>\n",
       "  </thead>\n",
       "  <tbody>\n",
       "    <tr>\n",
       "      <th>622</th>\n",
       "      <td>536414</td>\n",
       "      <td>22139</td>\n",
       "      <td>NaN</td>\n",
       "      <td>56</td>\n",
       "      <td>2010-12-01 11:52:00</td>\n",
       "      <td>0.00</td>\n",
       "      <td>NaN</td>\n",
       "      <td>United Kingdom</td>\n",
       "    </tr>\n",
       "    <tr>\n",
       "      <th>1443</th>\n",
       "      <td>536544</td>\n",
       "      <td>21773</td>\n",
       "      <td>DECORATIVE ROSE BATHROOM BOTTLE</td>\n",
       "      <td>1</td>\n",
       "      <td>2010-12-01 14:32:00</td>\n",
       "      <td>2.51</td>\n",
       "      <td>NaN</td>\n",
       "      <td>United Kingdom</td>\n",
       "    </tr>\n",
       "    <tr>\n",
       "      <th>1444</th>\n",
       "      <td>536544</td>\n",
       "      <td>21774</td>\n",
       "      <td>DECORATIVE CATS BATHROOM BOTTLE</td>\n",
       "      <td>2</td>\n",
       "      <td>2010-12-01 14:32:00</td>\n",
       "      <td>2.51</td>\n",
       "      <td>NaN</td>\n",
       "      <td>United Kingdom</td>\n",
       "    </tr>\n",
       "    <tr>\n",
       "      <th>1445</th>\n",
       "      <td>536544</td>\n",
       "      <td>21786</td>\n",
       "      <td>POLKADOT RAIN HAT</td>\n",
       "      <td>4</td>\n",
       "      <td>2010-12-01 14:32:00</td>\n",
       "      <td>0.85</td>\n",
       "      <td>NaN</td>\n",
       "      <td>United Kingdom</td>\n",
       "    </tr>\n",
       "    <tr>\n",
       "      <th>1446</th>\n",
       "      <td>536544</td>\n",
       "      <td>21787</td>\n",
       "      <td>RAIN PONCHO RETROSPOT</td>\n",
       "      <td>2</td>\n",
       "      <td>2010-12-01 14:32:00</td>\n",
       "      <td>1.66</td>\n",
       "      <td>NaN</td>\n",
       "      <td>United Kingdom</td>\n",
       "    </tr>\n",
       "  </tbody>\n",
       "</table>\n",
       "</div>"
      ],
      "text/plain": [
       "     InvoiceNo StockCode                      Description  Quantity  \\\n",
       "622     536414     22139                              NaN        56   \n",
       "1443    536544     21773  DECORATIVE ROSE BATHROOM BOTTLE         1   \n",
       "1444    536544     21774  DECORATIVE CATS BATHROOM BOTTLE         2   \n",
       "1445    536544     21786               POLKADOT RAIN HAT          4   \n",
       "1446    536544     21787            RAIN PONCHO RETROSPOT         2   \n",
       "\n",
       "             InvoiceDate  UnitPrice  CustomerID         Country  \n",
       "622  2010-12-01 11:52:00       0.00         NaN  United Kingdom  \n",
       "1443 2010-12-01 14:32:00       2.51         NaN  United Kingdom  \n",
       "1444 2010-12-01 14:32:00       2.51         NaN  United Kingdom  \n",
       "1445 2010-12-01 14:32:00       0.85         NaN  United Kingdom  \n",
       "1446 2010-12-01 14:32:00       1.66         NaN  United Kingdom  "
      ]
     },
     "execution_count": 9,
     "metadata": {},
     "output_type": "execute_result"
    }
   ],
   "source": [
    "# Rows where either 'CustomerID' or 'Description' is null\n",
    "data.loc[data[['CustomerID', 'Description']].isnull().any(axis=1)].head()\n"
   ]
  },
  {
   "cell_type": "code",
   "execution_count": 10,
   "metadata": {},
   "outputs": [
    {
     "data": {
      "text/plain": [
       "0"
      ]
     },
     "execution_count": 10,
     "metadata": {},
     "output_type": "execute_result"
    }
   ],
   "source": [
    "# Removing rows with missing values in 'CustomerID' and 'Description' columns\n",
    "data = data.dropna(subset=['CustomerID', 'Description'])\n",
    "\n",
    "# Verifying the removal of missing values\n",
    "data.isnull().sum().sum()"
   ]
  },
  {
   "cell_type": "code",
   "execution_count": 11,
   "metadata": {},
   "outputs": [
    {
     "data": {
      "text/html": [
       "<div>\n",
       "<style scoped>\n",
       "    .dataframe tbody tr th:only-of-type {\n",
       "        vertical-align: middle;\n",
       "    }\n",
       "\n",
       "    .dataframe tbody tr th {\n",
       "        vertical-align: top;\n",
       "    }\n",
       "\n",
       "    .dataframe thead th {\n",
       "        text-align: right;\n",
       "    }\n",
       "</style>\n",
       "<table border=\"1\" class=\"dataframe\">\n",
       "  <thead>\n",
       "    <tr style=\"text-align: right;\">\n",
       "      <th></th>\n",
       "      <th>InvoiceNo</th>\n",
       "      <th>StockCode</th>\n",
       "      <th>Description</th>\n",
       "      <th>Quantity</th>\n",
       "      <th>InvoiceDate</th>\n",
       "      <th>UnitPrice</th>\n",
       "      <th>CustomerID</th>\n",
       "      <th>Country</th>\n",
       "    </tr>\n",
       "  </thead>\n",
       "  <tbody>\n",
       "    <tr>\n",
       "      <th>494</th>\n",
       "      <td>536409</td>\n",
       "      <td>21866</td>\n",
       "      <td>UNION JACK FLAG LUGGAGE TAG</td>\n",
       "      <td>1</td>\n",
       "      <td>2010-12-01 11:45:00</td>\n",
       "      <td>1.25</td>\n",
       "      <td>17908.0</td>\n",
       "      <td>United Kingdom</td>\n",
       "    </tr>\n",
       "    <tr>\n",
       "      <th>517</th>\n",
       "      <td>536409</td>\n",
       "      <td>21866</td>\n",
       "      <td>UNION JACK FLAG LUGGAGE TAG</td>\n",
       "      <td>1</td>\n",
       "      <td>2010-12-01 11:45:00</td>\n",
       "      <td>1.25</td>\n",
       "      <td>17908.0</td>\n",
       "      <td>United Kingdom</td>\n",
       "    </tr>\n",
       "    <tr>\n",
       "      <th>485</th>\n",
       "      <td>536409</td>\n",
       "      <td>22111</td>\n",
       "      <td>SCOTTIE DOG HOT WATER BOTTLE</td>\n",
       "      <td>1</td>\n",
       "      <td>2010-12-01 11:45:00</td>\n",
       "      <td>4.95</td>\n",
       "      <td>17908.0</td>\n",
       "      <td>United Kingdom</td>\n",
       "    </tr>\n",
       "    <tr>\n",
       "      <th>539</th>\n",
       "      <td>536409</td>\n",
       "      <td>22111</td>\n",
       "      <td>SCOTTIE DOG HOT WATER BOTTLE</td>\n",
       "      <td>1</td>\n",
       "      <td>2010-12-01 11:45:00</td>\n",
       "      <td>4.95</td>\n",
       "      <td>17908.0</td>\n",
       "      <td>United Kingdom</td>\n",
       "    </tr>\n",
       "    <tr>\n",
       "      <th>489</th>\n",
       "      <td>536409</td>\n",
       "      <td>22866</td>\n",
       "      <td>HAND WARMER SCOTTY DOG DESIGN</td>\n",
       "      <td>1</td>\n",
       "      <td>2010-12-01 11:45:00</td>\n",
       "      <td>2.10</td>\n",
       "      <td>17908.0</td>\n",
       "      <td>United Kingdom</td>\n",
       "    </tr>\n",
       "    <tr>\n",
       "      <th>527</th>\n",
       "      <td>536409</td>\n",
       "      <td>22866</td>\n",
       "      <td>HAND WARMER SCOTTY DOG DESIGN</td>\n",
       "      <td>1</td>\n",
       "      <td>2010-12-01 11:45:00</td>\n",
       "      <td>2.10</td>\n",
       "      <td>17908.0</td>\n",
       "      <td>United Kingdom</td>\n",
       "    </tr>\n",
       "    <tr>\n",
       "      <th>521</th>\n",
       "      <td>536409</td>\n",
       "      <td>22900</td>\n",
       "      <td>SET 2 TEA TOWELS I LOVE LONDON</td>\n",
       "      <td>1</td>\n",
       "      <td>2010-12-01 11:45:00</td>\n",
       "      <td>2.95</td>\n",
       "      <td>17908.0</td>\n",
       "      <td>United Kingdom</td>\n",
       "    </tr>\n",
       "    <tr>\n",
       "      <th>537</th>\n",
       "      <td>536409</td>\n",
       "      <td>22900</td>\n",
       "      <td>SET 2 TEA TOWELS I LOVE LONDON</td>\n",
       "      <td>1</td>\n",
       "      <td>2010-12-01 11:45:00</td>\n",
       "      <td>2.95</td>\n",
       "      <td>17908.0</td>\n",
       "      <td>United Kingdom</td>\n",
       "    </tr>\n",
       "    <tr>\n",
       "      <th>578</th>\n",
       "      <td>536412</td>\n",
       "      <td>21448</td>\n",
       "      <td>12 DAISY PEGS IN WOOD BOX</td>\n",
       "      <td>1</td>\n",
       "      <td>2010-12-01 11:49:00</td>\n",
       "      <td>1.65</td>\n",
       "      <td>17920.0</td>\n",
       "      <td>United Kingdom</td>\n",
       "    </tr>\n",
       "    <tr>\n",
       "      <th>598</th>\n",
       "      <td>536412</td>\n",
       "      <td>21448</td>\n",
       "      <td>12 DAISY PEGS IN WOOD BOX</td>\n",
       "      <td>1</td>\n",
       "      <td>2010-12-01 11:49:00</td>\n",
       "      <td>1.65</td>\n",
       "      <td>17920.0</td>\n",
       "      <td>United Kingdom</td>\n",
       "    </tr>\n",
       "  </tbody>\n",
       "</table>\n",
       "</div>"
      ],
      "text/plain": [
       "    InvoiceNo StockCode                       Description  Quantity  \\\n",
       "494    536409     21866       UNION JACK FLAG LUGGAGE TAG         1   \n",
       "517    536409     21866       UNION JACK FLAG LUGGAGE TAG         1   \n",
       "485    536409     22111      SCOTTIE DOG HOT WATER BOTTLE         1   \n",
       "539    536409     22111      SCOTTIE DOG HOT WATER BOTTLE         1   \n",
       "489    536409     22866     HAND WARMER SCOTTY DOG DESIGN         1   \n",
       "527    536409     22866     HAND WARMER SCOTTY DOG DESIGN         1   \n",
       "521    536409     22900   SET 2 TEA TOWELS I LOVE LONDON          1   \n",
       "537    536409     22900   SET 2 TEA TOWELS I LOVE LONDON          1   \n",
       "578    536412     21448         12 DAISY PEGS IN WOOD BOX         1   \n",
       "598    536412     21448         12 DAISY PEGS IN WOOD BOX         1   \n",
       "\n",
       "            InvoiceDate  UnitPrice  CustomerID         Country  \n",
       "494 2010-12-01 11:45:00       1.25     17908.0  United Kingdom  \n",
       "517 2010-12-01 11:45:00       1.25     17908.0  United Kingdom  \n",
       "485 2010-12-01 11:45:00       4.95     17908.0  United Kingdom  \n",
       "539 2010-12-01 11:45:00       4.95     17908.0  United Kingdom  \n",
       "489 2010-12-01 11:45:00       2.10     17908.0  United Kingdom  \n",
       "527 2010-12-01 11:45:00       2.10     17908.0  United Kingdom  \n",
       "521 2010-12-01 11:45:00       2.95     17908.0  United Kingdom  \n",
       "537 2010-12-01 11:45:00       2.95     17908.0  United Kingdom  \n",
       "578 2010-12-01 11:49:00       1.65     17920.0  United Kingdom  \n",
       "598 2010-12-01 11:49:00       1.65     17920.0  United Kingdom  "
      ]
     },
     "execution_count": 11,
     "metadata": {},
     "output_type": "execute_result"
    }
   ],
   "source": [
    "# Finding duplicate rows (keeping all instances)\n",
    "duplicate_rows = data[data.duplicated(keep=False)]\n",
    "\n",
    "# Arranging the data based on specific columns to ensure that duplicate rows are grouped together.\n",
    "duplicate_rows_sorted = duplicate_rows.sort_values(by=['InvoiceNo', 'StockCode', 'Description', 'CustomerID', 'Quantity'])\n",
    "\n",
    "# Displaying the first 10 records\n",
    "duplicate_rows_sorted.head(10)"
   ]
  },
  {
   "cell_type": "markdown",
   "metadata": {},
   "source": [
    "Duplicate Handling Strategy:\n",
    "\n",
    "Within the scope of this project, the existence of entirely identical rows, even with identical transaction timestamps, indicates potential data recording errors rather than legitimate repeated transactions. Retaining these duplicate rows could introduce unwanted noise and inaccuracies into the recommendation system.\n",
    "\n",
    "Hence, the plan is to eliminate these entirely identical duplicate rows from the dataset. This action will contribute to obtaining a more refined dataset, facilitating the development of more precise product recommendations based on customers' distinct purchasing patterns. Furthermore, it will enhance the accuracy of the recommendation system by correctly identifying the most frequently purchased products."
   ]
  },
  {
   "cell_type": "code",
   "execution_count": 12,
   "metadata": {},
   "outputs": [
    {
     "name": "stdout",
     "output_type": "stream",
     "text": [
      "The dataset has 5225 duplicate rows that should be eliminated.\n"
     ]
    }
   ],
   "source": [
    "# Displaying the number of duplicate rows\n",
    "print(f\"The dataset has {data.duplicated().sum()} duplicate rows that should be eliminated.\")\n",
    "\n",
    "\n",
    "# Removing duplicate rows\n",
    "data.drop_duplicates(inplace=True)"
   ]
  },
  {
   "cell_type": "code",
   "execution_count": 13,
   "metadata": {},
   "outputs": [
    {
     "name": "stdout",
     "output_type": "stream",
     "text": [
      "The dataframe contains 401604 rows.\n"
     ]
    }
   ],
   "source": [
    "# Calculating the number of rows in the dataframe:\n",
    "\n",
    "num_rows = len(data)\n",
    "print(f\"The dataframe contains {num_rows} rows.\")\n"
   ]
  },
  {
   "cell_type": "markdown",
   "metadata": {},
   "source": [
    "Handling Cancelled Transactions:\n",
    "\n",
    "In order to enhance our comprehension of customer behavior and preferences, it's essential to consider transactions that were cancelled. Our approach involves initially identifying these transactions by filtering rows where the InvoiceNo starts with \"C\". Subsequently, we'll conduct an analysis of these rows to discern any common characteristics or patterns they exhibit."
   ]
  },
  {
   "cell_type": "code",
   "execution_count": 14,
   "metadata": {},
   "outputs": [],
   "source": [
    "invoice_to_del = [el for el in data['InvoiceNo'].unique() if el[0] == 'C'] #find invoices to cancelled\n",
    "data=data[data['InvoiceNo'].map(lambda x: x not in invoice_to_del)] # delete these products"
   ]
  },
  {
   "cell_type": "markdown",
   "metadata": {},
   "source": [
    "Key Observations from Cancelled Transactions Data:\n",
    "\n",
    "- All quantities in cancelled transactions are negative, indicating their status as cancelled orders.\n",
    "- The UnitPrice column displays significant variability, suggesting that cancelled transactions encompass a wide range of product values.\n",
    "\n",
    "Handling Cancelled Transactions Strategy:\n",
    "\n",
    "Given the project's objective of developing a recommendation system based on customer behavior, understanding cancellation patterns is crucial. Hence, the strategy is to preserve cancelled transactions in the dataset, clearly marking them for future analysis. This approach offers the following advantages:\n",
    "\n",
    "- Enables the recommendation system to potentially avoid suggesting products with a high cancellation probability, thus enhancing recommendation quality."
   ]
  },
  {
   "cell_type": "code",
   "execution_count": 15,
   "metadata": {},
   "outputs": [],
   "source": [
    "# # Finding the percentage of cancelled transactions\n",
    "# cancelled_percentage = (cancelled_transactions.shape[0] / data.shape[0]) * 100\n",
    "\n",
    "# # Printing the percentage of cancelled transactions\n",
    "# print(f\"The percentage of cancelled transactions in the dataset is: {cancelled_percentage:.2f}%\")"
   ]
  },
  {
   "cell_type": "markdown",
   "metadata": {},
   "source": [
    "Rectifying StockCode Anomalies:\n",
    "\n",
    "- To start, we'll determine the count of unique stock codes and then plot the top 10 most frequent stock codes along with their percentage frequency."
   ]
  },
  {
   "cell_type": "code",
   "execution_count": 16,
   "metadata": {},
   "outputs": [
    {
     "name": "stdout",
     "output_type": "stream",
     "text": [
      "The count of unique stock codes in the dataset is: 3665\n"
     ]
    }
   ],
   "source": [
    "# Finding the count of unique stock codes\n",
    "unique_stock_codes = data['StockCode'].nunique()\n",
    "\n",
    "# Printing the count of unique stock codes\n",
    "print(f\"The count of unique stock codes in the dataset is: {unique_stock_codes}\")"
   ]
  },
  {
   "cell_type": "code",
   "execution_count": 17,
   "metadata": {},
   "outputs": [
    {
     "data": {
      "image/png": "[encoded data removed]",
      "text/plain": [
       "<Figure size 1200x500 with 1 Axes>"
      ]
     },
     "metadata": {},
     "output_type": "display_data"
    }
   ],
   "source": [
    "# Finding the top 10 most frequent stock codes\n",
    "\n",
    "top_10_stock_codes = data['StockCode'].value_counts(normalize=True).head(10) * 100\n",
    "\n",
    "# Plotting the top 10 most frequent stock codes\n",
    "\n",
    "plt.figure(figsize=(12, 5))\n",
    "top_10_stock_codes.plot(kind='barh', color='red')\n",
    "\n",
    "# Adding the percentage frequency on the bars\n",
    "\n",
    "for index, value in enumerate(top_10_stock_codes):\n",
    "    plt.text(value, index+0.25, f'{value:.2f}%', fontsize=10)\n",
    "\n",
    "plt.title('Top 10 Most Frequent Stock Codes')\n",
    "plt.xlabel('Percentage Frequency (%)')\n",
    "plt.ylabel('Stock Codes')\n",
    "plt.gca().invert_yaxis()\n",
    "plt.show()"
   ]
  },
  {
   "cell_type": "markdown",
   "metadata": {},
   "source": [
    "Inferences on Stock Codes:\n",
    "\n",
    "- **Product Variety:** The dataset encompasses 3684 unique stock codes, indicating a wide array of products available in the online retail store. This diversity holds potential for identifying distinct preferences among customers, contributing to the creation of tailored recommendation systems catering to different product types.\n",
    "\n",
    "- **Popular Items:** Examining the top 10 most frequent stock codes provides insights into the products or categories that enjoy significant popularity among customers, guiding strategic decisions regarding inventory management and marketing efforts.\n",
    "\n",
    "- **Stock Code Anomalies:** Anomalies in stock codes, such as the presence of entries like 'POST', deviate from the typical format observed in most codes, which consist of 5 or 6 characters. These anomalies may represent non-product transactions, such as postage fees or services, rather than actual products. To uphold the project's focus on creating a recommendation system based on product transactions, it's imperative to investigate and potentially address these anomalies to maintain data integrity."
   ]
  },
  {
   "cell_type": "markdown",
   "metadata": {},
   "source": [
    "To further investigate these anomalies, let's analyze the frequency of numeric characters in the stock codes. This analysis can shed light on the nature of these unusual entries:"
   ]
  },
  {
   "cell_type": "code",
   "execution_count": 18,
   "metadata": {},
   "outputs": [
    {
     "name": "stdout",
     "output_type": "stream",
     "text": [
      "Frequency distribution of numeric character counts in unique stock codes:\n",
      "----------------------------------------------------------------------\n",
      "5    3659\n",
      "0       5\n",
      "1       1\n",
      "Name: count, dtype: int64\n"
     ]
    }
   ],
   "source": [
    "# Extracting unique stock codes\n",
    "unique_stock_codes = data['StockCode'].unique()\n",
    "\n",
    "# Counting numeric characters in each unique stock code\n",
    "numeric_char_counts_in_unique_codes = pd.Series(unique_stock_codes).apply(lambda x: sum(c.isdigit() for c in str(x))).value_counts()\n",
    "\n",
    "# Displaying the frequency distribution of numeric character counts\n",
    "print(\"Frequency distribution of numeric character counts in unique stock codes:\")\n",
    "print(\"-\" * 70)\n",
    "print(numeric_char_counts_in_unique_codes)\n"
   ]
  },
  {
   "cell_type": "markdown",
   "metadata": {},
   "source": [
    "Inference:\n",
    "\n",
    "The analysis reveals the following:\n",
    "\n",
    "- The majority of unique stock codes (3676 out of 3684) conform to the standard format of containing exactly 5 numeric characters, suggesting consistency in representing product codes within the dataset.\n",
    "\n",
    "- However, there are anomalies: 7 stock codes contain no numeric characters, and 1 stock code contains only 1 numeric character. These deviations from the standard format require further investigation to determine their nature and ascertain whether they represent valid product transactions.\n",
    "\n",
    "Next, let's identify the stock codes that contain 0 or 1 numeric characters to gain deeper insights into these anomalies:"
   ]
  },
  {
   "cell_type": "code",
   "execution_count": 19,
   "metadata": {},
   "outputs": [
    {
     "name": "stdout",
     "output_type": "stream",
     "text": [
      "Anomalous stock codes:\n",
      "----------------------\n",
      "POST\n",
      "C2\n",
      "M\n",
      "BANK CHARGES\n",
      "PADS\n",
      "DOT\n"
     ]
    }
   ],
   "source": [
    "# Finding stock codes with 0 or 1 numeric characters\n",
    "anomalous_stock_codes = [code for code in unique_stock_codes if sum(c.isdigit() for c in str(code)) in (0, 1)]\n",
    "\n",
    "# Printing anomalous stock codes\n",
    "print(\"Anomalous stock codes:\")\n",
    "print(\"-\" * 22)\n",
    "for code in anomalous_stock_codes:\n",
    "    print(code)\n"
   ]
  },
  {
   "cell_type": "markdown",
   "metadata": {},
   "source": [
    "Let's calculate the percentage of records with these anomalous stock codes:"
   ]
  },
  {
   "cell_type": "code",
   "execution_count": 20,
   "metadata": {},
   "outputs": [
    {
     "name": "stdout",
     "output_type": "stream",
     "text": [
      "The percentage of records with anomalous stock codes in the dataset is: 0.39%\n"
     ]
    }
   ],
   "source": [
    "# Calculating the percentage of records with these stock codes\n",
    "percentage_anomalous = (data['StockCode'].isin(anomalous_stock_codes).sum() / len(data)) * 100\n",
    "\n",
    "# Printing the percentage\n",
    "print(f\"The percentage of records with anomalous stock codes in the dataset is: {percentage_anomalous:.2f}%\")"
   ]
  },
  {
   "cell_type": "markdown",
   "metadata": {},
   "source": [
    "Inference:\n",
    "\n",
    "- The analysis reveals that only a small fraction of records, approximately 0.48%, have anomalous stock codes, which differ from the standard format observed in the majority of the dataset. Moreover, these anomalous codes represent just a fraction of all unique stock codes (only 8 out of 3684).\n",
    "\n",
    "- These anomalous codes appear to denote non-product transactions, such as \"BANK CHARGES\" and \"POST\" (likely postage fees). As they do not pertain to actual products and constitute a negligible portion of the dataset, including them in the analysis could introduce noise and distort the recommendation system.\n",
    "\n",
    "Strategy:\n",
    "\n",
    "- Given the project's objective of developing a product recommendation system, it's advisable to exclude records with anomalous stock codes from the dataset. By doing so, the focus remains solely on genuine product transactions, ensuring a more accurate and meaningful analysis.\n",
    "\n",
    "Therefore, the strategy involves filtering out and removing rows with anomalous stock codes from the dataset before proceeding with further analysis and model development:"
   ]
  },
  {
   "cell_type": "code",
   "execution_count": 21,
   "metadata": {},
   "outputs": [
    {
     "data": {
      "text/plain": [
       "391183"
      ]
     },
     "execution_count": 21,
     "metadata": {},
     "output_type": "execute_result"
    }
   ],
   "source": [
    "# Removing rows with anomalous stock codes from the dataset\n",
    "data = data[~data['StockCode'].isin(anomalous_stock_codes)]\n",
    "\n",
    "# Getting the number of rows in the dataframe\n",
    "data.shape[0]"
   ]
  },
  {
   "cell_type": "markdown",
   "metadata": {},
   "source": [
    "Cleaning Description Column\n",
    "\n",
    "First, I will calculate the occurrence count of each unique description in the dataset. Then, I will plot the top 30 descriptions. This visualization will give a clear view of the highest occurring descriptions in the dataset:\n",
    "Inferences on Descriptions:\n",
    "\n",
    "To clean the Description column, we'll first calculate the occurrence count of each unique description in the dataset. Then, we'll plot the top 30 descriptions to visualize the most frequently occurring ones:"
   ]
  },
  {
   "cell_type": "code",
   "execution_count": 22,
   "metadata": {},
   "outputs": [
    {
     "data": {
      "image/png": "[encoded data removed]",
      "text/plain": [
       "<Figure size 1200x800 with 1 Axes>"
      ]
     },
     "metadata": {},
     "output_type": "display_data"
    }
   ],
   "source": [
    "# Calculate the occurrence of each unique description and sort them\n",
    "description_counts = data['Description'].value_counts()\n",
    "\n",
    "# Get the top 30 descriptions\n",
    "top_30_descriptions = description_counts[:30]\n",
    "\n",
    "# Plotting\n",
    "plt.figure(figsize=(12,8))\n",
    "plt.barh(top_30_descriptions.index[::-1], top_30_descriptions.values[::-1], color='red')\n",
    "\n",
    "# Adding labels and title\n",
    "plt.xlabel('Number of Occurrences')\n",
    "plt.ylabel('Description')\n",
    "plt.title('Top 30 Most Frequent Descriptions')\n",
    "\n",
    "# Show the plot\n",
    "plt.show()\n"
   ]
  },
  {
   "cell_type": "markdown",
   "metadata": {},
   "source": [
    "Inferences on Descriptions:\n",
    "\n",
    "- The predominant descriptions are typically related to household items, particularly those associated with kitchenware, lunch bags, and decorative items. This suggests that these categories might be popular among customers or heavily stocked by the retailer.\n",
    "\n",
    "- Notably, all descriptions are in uppercase, indicating a standardized format for entering product descriptions in the database. However, given the inconsistencies and anomalies encountered in the dataset, it would be prudent to verify whether descriptions are entered in lowercase or a mix of case styles. This validation could help identify potential data entry errors or inconsistencies that may impact data quality and subsequent analysis."
   ]
  },
  {
   "cell_type": "markdown",
   "metadata": {},
   "source": [
    "To find unique descriptions containing lowercase characters, we iterate through the unique descriptions and filter out those that contain at least one lowercase character. Then, we print these unique descriptions:"
   ]
  },
  {
   "cell_type": "code",
   "execution_count": 23,
   "metadata": {},
   "outputs": [
    {
     "name": "stdout",
     "output_type": "stream",
     "text": [
      "Unique descriptions containing lowercase characters:\n",
      "------------------------------------------------------------\n",
      "BAG 500g SWIRLY MARBLES\n",
      "POLYESTER FILLER PAD 45x45cm\n",
      "POLYESTER FILLER PAD 45x30cm\n",
      "POLYESTER FILLER PAD 40x40cm\n",
      "FRENCH BLUE METAL DOOR SIGN No\n",
      "BAG 250g SWIRLY MARBLES\n",
      "BAG 125g SWIRLY MARBLES\n",
      "3 TRADITIONAl BISCUIT CUTTERS  SET\n",
      "FOLK ART GREETING CARD,pack/12\n",
      "ESSENTIAL BALM 3.5g TIN IN ENVELOPE\n",
      "POLYESTER FILLER PAD 65CMx65CM\n",
      "NUMBER TILE VINTAGE FONT No \n",
      "NUMBER TILE COTTAGE GARDEN No\n",
      "POLYESTER FILLER PAD 30CMx30CM\n",
      "POLYESTER FILLER PAD 60x40cm\n",
      "FLOWERS HANDBAG blue and orange\n",
      "Next Day Carriage\n",
      "THE KING GIFT BAG 25x24x12cm\n",
      "High Resolution Image\n"
     ]
    }
   ],
   "source": [
    "# Find unique descriptions containing lowercase characters\n",
    "lowercase_descriptions = data['Description'].unique()\n",
    "lowercase_descriptions = [desc for desc in lowercase_descriptions if any(char.islower() for char in desc)]\n",
    "\n",
    "# Print the unique descriptions containing lowercase characters\n",
    "print(\"Unique descriptions containing lowercase characters:\")\n",
    "print(\"-\" * 60)\n",
    "for desc in lowercase_descriptions:\n",
    "    print(desc)\n"
   ]
  },
  {
   "cell_type": "markdown",
   "metadata": {},
   "source": [
    "Inference:\n",
    "\n",
    "Upon examining descriptions containing lowercase characters, it's apparent that certain entries, such as \"Next Day Carriage\" and \"High Resolution Image,\" do not pertain to product descriptions. These entries likely represent other types of information or service details unrelated to actual products.\n",
    "\n",
    "Strategy:\n",
    "\n",
    "1. **Remove Service-related Entries:** \n",
    "    - We'll begin by removing rows where descriptions contain service-related information like \"Next Day Carriage\" and \"High Resolution Image.\" These entries are irrelevant to the products and would not contribute to the recommendation system we aim to build.\n",
    "\n",
    "2. **Standardize Case:** \n",
    "    - For the remaining descriptions with mixed case, we'll standardize the text to uppercase. This step ensures uniformity across the dataset and reduces the likelihood of having duplicate entries with different case styles.\n",
    "\n",
    "Implementing this strategy will enhance the dataset's quality, making it more suitable for the analysis and modeling phases of our project."
   ]
  },
  {
   "cell_type": "code",
   "execution_count": 24,
   "metadata": {},
   "outputs": [
    {
     "name": "stdout",
     "output_type": "stream",
     "text": [
      "The percentage of records with service-related descriptions in the dataset is: 0.02%\n"
     ]
    }
   ],
   "source": [
    "service_related_descriptions = [\"Next Day Carriage\", \"High Resolution Image\"]\n",
    "\n",
    "# Calculate the percentage of records with service-related descriptions\n",
    "service_related_percentage = data[data['Description'].isin(service_related_descriptions)].shape[0] / data.shape[0] * 100\n",
    "\n",
    "# Print the percentage of records with service-related descriptions\n",
    "print(f\"The percentage of records with service-related descriptions in the dataset is: {service_related_percentage:.2f}%\")\n",
    "\n",
    "# Remove rows with service-related information in the description\n",
    "data = data[~data['Description'].isin(service_related_descriptions)]\n",
    "\n",
    "# Standardize the text to uppercase to maintain uniformity across the dataset\n",
    "data['Description'] = data['Description'].str.upper()\n"
   ]
  },
  {
   "cell_type": "code",
   "execution_count": 25,
   "metadata": {},
   "outputs": [
    {
     "name": "stdout",
     "output_type": "stream",
     "text": [
      "The number of rows in the dataframe is: 391101\n"
     ]
    }
   ],
   "source": [
    "# Getting the number of rows in the dataframe\n",
    "num_rows = data.shape[0]\n",
    "print(f\"The number of rows in the dataframe is: {num_rows}\")\n"
   ]
  },
  {
   "cell_type": "markdown",
   "metadata": {},
   "source": [
    "Treating Zero Unit Prices\n",
    "\n",
    "In this step, first I am going to take a look at the statistical description of the UnitPrice column:"
   ]
  },
  {
   "cell_type": "code",
   "execution_count": 26,
   "metadata": {},
   "outputs": [
    {
     "name": "stdout",
     "output_type": "stream",
     "text": [
      "count    391101.000000\n",
      "mean          2.871599\n",
      "std           4.281346\n",
      "min           0.000000\n",
      "25%           1.250000\n",
      "50%           1.950000\n",
      "75%           3.750000\n",
      "max         649.500000\n",
      "Name: UnitPrice, dtype: float64\n"
     ]
    }
   ],
   "source": [
    "# Descriptive statistics for the 'UnitPrice' column\n",
    "unit_price_stats = data['UnitPrice'].describe()\n",
    "print(unit_price_stats)\n"
   ]
  },
  {
   "cell_type": "markdown",
   "metadata": {},
   "source": [
    "Inference:\n",
    "\n",
    "The minimum unit price value being zero suggests that there are transactions where the unit price is zero, which could indicate either a free item or a data entry error. To gain a better understanding of these zero unit price transactions, further investigation is essential. A detailed analysis of the product descriptions associated with zero unit prices will be conducted to identify any patterns or anomalies. This analysis will help determine the nature of these transactions and whether they are legitimate or indicative of errors in data entry."
   ]
  },
  {
   "cell_type": "code",
   "execution_count": 27,
   "metadata": {},
   "outputs": [
    {
     "data": {
      "text/html": [
       "<div>\n",
       "<style scoped>\n",
       "    .dataframe tbody tr th:only-of-type {\n",
       "        vertical-align: middle;\n",
       "    }\n",
       "\n",
       "    .dataframe tbody tr th {\n",
       "        vertical-align: top;\n",
       "    }\n",
       "\n",
       "    .dataframe thead th {\n",
       "        text-align: right;\n",
       "    }\n",
       "</style>\n",
       "<table border=\"1\" class=\"dataframe\">\n",
       "  <thead>\n",
       "    <tr style=\"text-align: right;\">\n",
       "      <th></th>\n",
       "      <th>Quantity</th>\n",
       "    </tr>\n",
       "  </thead>\n",
       "  <tbody>\n",
       "    <tr>\n",
       "      <th>count</th>\n",
       "      <td>33.000000</td>\n",
       "    </tr>\n",
       "    <tr>\n",
       "      <th>mean</th>\n",
       "      <td>420.515152</td>\n",
       "    </tr>\n",
       "    <tr>\n",
       "      <th>min</th>\n",
       "      <td>1.000000</td>\n",
       "    </tr>\n",
       "    <tr>\n",
       "      <th>25%</th>\n",
       "      <td>2.000000</td>\n",
       "    </tr>\n",
       "    <tr>\n",
       "      <th>50%</th>\n",
       "      <td>11.000000</td>\n",
       "    </tr>\n",
       "    <tr>\n",
       "      <th>75%</th>\n",
       "      <td>36.000000</td>\n",
       "    </tr>\n",
       "    <tr>\n",
       "      <th>max</th>\n",
       "      <td>12540.000000</td>\n",
       "    </tr>\n",
       "    <tr>\n",
       "      <th>std</th>\n",
       "      <td>2176.713608</td>\n",
       "    </tr>\n",
       "  </tbody>\n",
       "</table>\n",
       "</div>"
      ],
      "text/plain": [
       "           Quantity\n",
       "count     33.000000\n",
       "mean     420.515152\n",
       "min        1.000000\n",
       "25%        2.000000\n",
       "50%       11.000000\n",
       "75%       36.000000\n",
       "max    12540.000000\n",
       "std     2176.713608"
      ]
     },
     "execution_count": 27,
     "metadata": {},
     "output_type": "execute_result"
    }
   ],
   "source": [
    "data[data['UnitPrice']==0].describe()[['Quantity']]"
   ]
  },
  {
   "cell_type": "markdown",
   "metadata": {},
   "source": [
    "Inferences on UnitPrice:\n",
    "\n",
    "- There are relatively few transactions (33 in total) with a unit price of zero.\n",
    "- These transactions exhibit a wide range of quantities involved, spanning from 1 to 12540, with a substantial standard deviation.\n",
    "\n",
    "Strategy:\n",
    "\n",
    "- Due to the small number of transactions with zero unit price and their potential to introduce noise in data analysis, the recommended strategy is to remove these transactions from the dataset. This approach ensures the maintenance of a cleaner and more consistent dataset, which is crucial for constructing an accurate and reliable recommendation system."
   ]
  },
  {
   "cell_type": "code",
   "execution_count": 28,
   "metadata": {},
   "outputs": [],
   "source": [
    "# Removing records with a unit price of zero to avoid potential data entry errors\n",
    "data = data[data['UnitPrice'] > 0]"
   ]
  },
  {
   "cell_type": "code",
   "execution_count": 29,
   "metadata": {},
   "outputs": [
    {
     "data": {
      "text/plain": [
       "391068"
      ]
     },
     "execution_count": 29,
     "metadata": {},
     "output_type": "execute_result"
    }
   ],
   "source": [
    "# Resetting the index of the cleaned dataset\n",
    "data.reset_index(drop=True, inplace=True)\n",
    "\n",
    "# Getting the number of rows in the dataframe\n",
    "data.shape[0]"
   ]
  },
  {
   "cell_type": "code",
   "execution_count": 30,
   "metadata": {},
   "outputs": [
    {
     "name": "stdout",
     "output_type": "stream",
     "text": [
      "<class 'pandas.core.frame.DataFrame'>\n",
      "RangeIndex: 391068 entries, 0 to 391067\n",
      "Data columns (total 8 columns):\n",
      " #   Column       Non-Null Count   Dtype         \n",
      "---  ------       --------------   -----         \n",
      " 0   InvoiceNo    391068 non-null  object        \n",
      " 1   StockCode    391068 non-null  object        \n",
      " 2   Description  391068 non-null  object        \n",
      " 3   Quantity     391068 non-null  int64         \n",
      " 4   InvoiceDate  391068 non-null  datetime64[ns]\n",
      " 5   UnitPrice    391068 non-null  float64       \n",
      " 6   CustomerID   391068 non-null  float64       \n",
      " 7   Country      391068 non-null  object        \n",
      "dtypes: datetime64[ns](1), float64(2), int64(1), object(4)\n",
      "memory usage: 23.9+ MB\n"
     ]
    }
   ],
   "source": [
    "data.info()"
   ]
  },
  {
   "cell_type": "markdown",
   "metadata": {},
   "source": [
    "# Association Rules modelling : Fp growth algorithm"
   ]
  },
  {
   "cell_type": "markdown",
   "metadata": {},
   "source": [
    "Fp Growth is a Data Mining model based on **association rules**.\n",
    "\n",
    "This model allows, from a transaction history, to determine the set of most frequent association rules in the dataset. To do so, it needs as input parameter the set of transactions composed of the product baskets the customers have already purchased. \n",
    "\n",
    "Step-1: Given a dataset of transactions, the first step of FP-growth is to calculate item frequencies and identify frequent items.\n",
    "\n",
    "Step-2: The second step of FP-growth uses a suffix tree (FP-tree) structure to encode transactions without generating candidate sets explicitly, which are usually expensive to generate. After the second step, the frequent itemsets can be extracted from the FP-tree and the model returns a set of product association rules like the example below: \n",
    "\n",
    "            {Product A + Product B} --> {Product C} with 60% probability\n",
    "            {Product B + Product C} --> {Product A + Product D} with 78% probability\n",
    "            {Prodcut C} --> {Product B + Product D} with 67% probability\n",
    "            etc.\n",
    "            \n",
    "To establish this table, the model needs to be provided with 2 hyperparameters :\n",
    "* **minSupRatio** : minimum support for an itemset to be identified as frequent. For example, if an item appears 3 out of 5 transactions, it has a support of 3/5=0.6.\n",
    "* **minConf** :minimum confidence for generating Association Rule. Confidence is an indication of how often an association rule has been found to be true. For example, if in the transactions itemset X appears 4 times, X and Y co-occur only 2 times, the confidence for the rule X => Y is then 2/4 = 0.5. The parameter will not affect the mining for frequent itemsets, but specify the minimum confidence for generating association rules from frequent itemsets.\n",
    "\n",
    "Once the association rules have been calculated, all you have to do is apply them to the customers' product baskets. "
   ]
  },
  {
   "cell_type": "code",
   "execution_count": 31,
   "metadata": {},
   "outputs": [
    {
     "name": "stdout",
     "output_type": "stream",
     "text": [
      "Basket Shape:  (18399, 3657)\n"
     ]
    },
    {
     "data": {
      "text/html": [
       "<div>\n",
       "<style scoped>\n",
       "    .dataframe tbody tr th:only-of-type {\n",
       "        vertical-align: middle;\n",
       "    }\n",
       "\n",
       "    .dataframe tbody tr th {\n",
       "        vertical-align: top;\n",
       "    }\n",
       "\n",
       "    .dataframe thead th {\n",
       "        text-align: right;\n",
       "    }\n",
       "</style>\n",
       "<table border=\"1\" class=\"dataframe\">\n",
       "  <thead>\n",
       "    <tr style=\"text-align: right;\">\n",
       "      <th>StockCode</th>\n",
       "      <th>10002</th>\n",
       "      <th>10080</th>\n",
       "      <th>10120</th>\n",
       "      <th>10123C</th>\n",
       "      <th>10124A</th>\n",
       "      <th>10124G</th>\n",
       "      <th>10125</th>\n",
       "      <th>10133</th>\n",
       "      <th>10135</th>\n",
       "      <th>11001</th>\n",
       "      <th>...</th>\n",
       "      <th>90214O</th>\n",
       "      <th>90214P</th>\n",
       "      <th>90214R</th>\n",
       "      <th>90214S</th>\n",
       "      <th>90214T</th>\n",
       "      <th>90214U</th>\n",
       "      <th>90214V</th>\n",
       "      <th>90214W</th>\n",
       "      <th>90214Y</th>\n",
       "      <th>90214Z</th>\n",
       "    </tr>\n",
       "    <tr>\n",
       "      <th>InvoiceNo</th>\n",
       "      <th></th>\n",
       "      <th></th>\n",
       "      <th></th>\n",
       "      <th></th>\n",
       "      <th></th>\n",
       "      <th></th>\n",
       "      <th></th>\n",
       "      <th></th>\n",
       "      <th></th>\n",
       "      <th></th>\n",
       "      <th></th>\n",
       "      <th></th>\n",
       "      <th></th>\n",
       "      <th></th>\n",
       "      <th></th>\n",
       "      <th></th>\n",
       "      <th></th>\n",
       "      <th></th>\n",
       "      <th></th>\n",
       "      <th></th>\n",
       "      <th></th>\n",
       "    </tr>\n",
       "  </thead>\n",
       "  <tbody>\n",
       "    <tr>\n",
       "      <th>536365</th>\n",
       "      <td>0.0</td>\n",
       "      <td>0.0</td>\n",
       "      <td>0.0</td>\n",
       "      <td>0.0</td>\n",
       "      <td>0.0</td>\n",
       "      <td>0.0</td>\n",
       "      <td>0.0</td>\n",
       "      <td>0.0</td>\n",
       "      <td>0.0</td>\n",
       "      <td>0.0</td>\n",
       "      <td>...</td>\n",
       "      <td>0.0</td>\n",
       "      <td>0.0</td>\n",
       "      <td>0.0</td>\n",
       "      <td>0.0</td>\n",
       "      <td>0.0</td>\n",
       "      <td>0.0</td>\n",
       "      <td>0.0</td>\n",
       "      <td>0.0</td>\n",
       "      <td>0.0</td>\n",
       "      <td>0.0</td>\n",
       "    </tr>\n",
       "    <tr>\n",
       "      <th>536366</th>\n",
       "      <td>0.0</td>\n",
       "      <td>0.0</td>\n",
       "      <td>0.0</td>\n",
       "      <td>0.0</td>\n",
       "      <td>0.0</td>\n",
       "      <td>0.0</td>\n",
       "      <td>0.0</td>\n",
       "      <td>0.0</td>\n",
       "      <td>0.0</td>\n",
       "      <td>0.0</td>\n",
       "      <td>...</td>\n",
       "      <td>0.0</td>\n",
       "      <td>0.0</td>\n",
       "      <td>0.0</td>\n",
       "      <td>0.0</td>\n",
       "      <td>0.0</td>\n",
       "      <td>0.0</td>\n",
       "      <td>0.0</td>\n",
       "      <td>0.0</td>\n",
       "      <td>0.0</td>\n",
       "      <td>0.0</td>\n",
       "    </tr>\n",
       "    <tr>\n",
       "      <th>536367</th>\n",
       "      <td>0.0</td>\n",
       "      <td>0.0</td>\n",
       "      <td>0.0</td>\n",
       "      <td>0.0</td>\n",
       "      <td>0.0</td>\n",
       "      <td>0.0</td>\n",
       "      <td>0.0</td>\n",
       "      <td>0.0</td>\n",
       "      <td>0.0</td>\n",
       "      <td>0.0</td>\n",
       "      <td>...</td>\n",
       "      <td>0.0</td>\n",
       "      <td>0.0</td>\n",
       "      <td>0.0</td>\n",
       "      <td>0.0</td>\n",
       "      <td>0.0</td>\n",
       "      <td>0.0</td>\n",
       "      <td>0.0</td>\n",
       "      <td>0.0</td>\n",
       "      <td>0.0</td>\n",
       "      <td>0.0</td>\n",
       "    </tr>\n",
       "    <tr>\n",
       "      <th>536368</th>\n",
       "      <td>0.0</td>\n",
       "      <td>0.0</td>\n",
       "      <td>0.0</td>\n",
       "      <td>0.0</td>\n",
       "      <td>0.0</td>\n",
       "      <td>0.0</td>\n",
       "      <td>0.0</td>\n",
       "      <td>0.0</td>\n",
       "      <td>0.0</td>\n",
       "      <td>0.0</td>\n",
       "      <td>...</td>\n",
       "      <td>0.0</td>\n",
       "      <td>0.0</td>\n",
       "      <td>0.0</td>\n",
       "      <td>0.0</td>\n",
       "      <td>0.0</td>\n",
       "      <td>0.0</td>\n",
       "      <td>0.0</td>\n",
       "      <td>0.0</td>\n",
       "      <td>0.0</td>\n",
       "      <td>0.0</td>\n",
       "    </tr>\n",
       "    <tr>\n",
       "      <th>536369</th>\n",
       "      <td>0.0</td>\n",
       "      <td>0.0</td>\n",
       "      <td>0.0</td>\n",
       "      <td>0.0</td>\n",
       "      <td>0.0</td>\n",
       "      <td>0.0</td>\n",
       "      <td>0.0</td>\n",
       "      <td>0.0</td>\n",
       "      <td>0.0</td>\n",
       "      <td>0.0</td>\n",
       "      <td>...</td>\n",
       "      <td>0.0</td>\n",
       "      <td>0.0</td>\n",
       "      <td>0.0</td>\n",
       "      <td>0.0</td>\n",
       "      <td>0.0</td>\n",
       "      <td>0.0</td>\n",
       "      <td>0.0</td>\n",
       "      <td>0.0</td>\n",
       "      <td>0.0</td>\n",
       "      <td>0.0</td>\n",
       "    </tr>\n",
       "  </tbody>\n",
       "</table>\n",
       "<p>5 rows × 3657 columns</p>\n",
       "</div>"
      ],
      "text/plain": [
       "StockCode  10002  10080  10120  10123C  10124A  10124G  10125  10133  10135  \\\n",
       "InvoiceNo                                                                     \n",
       "536365       0.0    0.0    0.0     0.0     0.0     0.0    0.0    0.0    0.0   \n",
       "536366       0.0    0.0    0.0     0.0     0.0     0.0    0.0    0.0    0.0   \n",
       "536367       0.0    0.0    0.0     0.0     0.0     0.0    0.0    0.0    0.0   \n",
       "536368       0.0    0.0    0.0     0.0     0.0     0.0    0.0    0.0    0.0   \n",
       "536369       0.0    0.0    0.0     0.0     0.0     0.0    0.0    0.0    0.0   \n",
       "\n",
       "StockCode  11001  ...  90214O  90214P  90214R  90214S  90214T  90214U  90214V  \\\n",
       "InvoiceNo         ...                                                           \n",
       "536365       0.0  ...     0.0     0.0     0.0     0.0     0.0     0.0     0.0   \n",
       "536366       0.0  ...     0.0     0.0     0.0     0.0     0.0     0.0     0.0   \n",
       "536367       0.0  ...     0.0     0.0     0.0     0.0     0.0     0.0     0.0   \n",
       "536368       0.0  ...     0.0     0.0     0.0     0.0     0.0     0.0     0.0   \n",
       "536369       0.0  ...     0.0     0.0     0.0     0.0     0.0     0.0     0.0   \n",
       "\n",
       "StockCode  90214W  90214Y  90214Z  \n",
       "InvoiceNo                          \n",
       "536365        0.0     0.0     0.0  \n",
       "536366        0.0     0.0     0.0  \n",
       "536367        0.0     0.0     0.0  \n",
       "536368        0.0     0.0     0.0  \n",
       "536369        0.0     0.0     0.0  \n",
       "\n",
       "[5 rows x 3657 columns]"
      ]
     },
     "execution_count": 31,
     "metadata": {},
     "output_type": "execute_result"
    }
   ],
   "source": [
    "# Recommendation Algorithm - FP-Growth\n",
    "# One-hot encode the data for Market Basket Analysis\n",
    "basket = (data.groupby(['InvoiceNo', 'StockCode'])['Quantity']\n",
    "          .sum().unstack().reset_index().fillna(0)\n",
    "          .set_index('InvoiceNo'))\n",
    "\n",
    "print(\"Basket Shape: \", basket.shape)\n",
    "\n",
    "basket.head()"
   ]
  },
  {
   "cell_type": "code",
   "execution_count": 32,
   "metadata": {},
   "outputs": [
    {
     "name": "stderr",
     "output_type": "stream",
     "text": [
      "/var/folders/h2/nzdrmmqs66x13b1h4f0882fh0000gn/T/ipykernel_16890/283358427.py:8: FutureWarning: DataFrame.applymap has been deprecated. Use DataFrame.map instead.\n",
      "  basket_sets = basket.applymap(encode_units)\n"
     ]
    }
   ],
   "source": [
    "# Convert quantity to binary values (0 or 1)\n",
    "def encode_units(x):\n",
    "    if x <= 0:\n",
    "        return 0\n",
    "    if x >= 1:\n",
    "        return 1\n",
    "\n",
    "basket_sets = basket.applymap(encode_units)"
   ]
  },
  {
   "cell_type": "code",
   "execution_count": 33,
   "metadata": {},
   "outputs": [
    {
     "name": "stderr",
     "output_type": "stream",
     "text": [
      "/opt/anaconda3/envs/conrad_rpb/lib/python3.12/site-packages/mlxtend/frequent_patterns/fpcommon.py:109: DeprecationWarning: DataFrames with non-bool types result in worse computationalperformance and their support might be discontinued in the future.Please use a DataFrame with bool type\n",
      "  warnings.warn(\n"
     ]
    },
    {
     "name": "stdout",
     "output_type": "stream",
     "text": [
      "2.751400947570801\n"
     ]
    },
    {
     "data": {
      "text/plain": [
       "(16636, 10)"
      ]
     },
     "execution_count": 33,
     "metadata": {},
     "output_type": "execute_result"
    }
   ],
   "source": [
    "a=time.time()\n",
    "# Generate frequent item sets using FP-Growth\n",
    "frequent_itemsets_fp = fpgrowth(basket_sets, min_support=0.005, use_colnames=True)\n",
    "\n",
    "# Generate association rules\n",
    "rules_fp = association_rules(frequent_itemsets_fp, metric=\"lift\", min_threshold=0.5)\n",
    "b=time.time()\n",
    "print(b-a)\n",
    "rules_fp.shape"
   ]
  },
  {
   "cell_type": "code",
   "execution_count": 34,
   "metadata": {},
   "outputs": [
    {
     "name": "stdout",
     "output_type": "stream",
     "text": [
      "Dimensions of the association table are :  (16636, 3)\n"
     ]
    },
    {
     "data": {
      "text/html": [
       "<div>\n",
       "<style scoped>\n",
       "    .dataframe tbody tr th:only-of-type {\n",
       "        vertical-align: middle;\n",
       "    }\n",
       "\n",
       "    .dataframe tbody tr th {\n",
       "        vertical-align: top;\n",
       "    }\n",
       "\n",
       "    .dataframe thead th {\n",
       "        text-align: right;\n",
       "    }\n",
       "</style>\n",
       "<table border=\"1\" class=\"dataframe\">\n",
       "  <thead>\n",
       "    <tr style=\"text-align: right;\">\n",
       "      <th></th>\n",
       "      <th>antecedents</th>\n",
       "      <th>consequents</th>\n",
       "      <th>confidence</th>\n",
       "    </tr>\n",
       "  </thead>\n",
       "  <tbody>\n",
       "    <tr>\n",
       "      <th>8390</th>\n",
       "      <td>(22916, 22921, 22919, 22917, 22920)</td>\n",
       "      <td>(22918)</td>\n",
       "      <td>0.992481</td>\n",
       "    </tr>\n",
       "    <tr>\n",
       "      <th>8131</th>\n",
       "      <td>(22917, 22919, 22916, 22921)</td>\n",
       "      <td>(22918)</td>\n",
       "      <td>0.985915</td>\n",
       "    </tr>\n",
       "    <tr>\n",
       "      <th>8228</th>\n",
       "      <td>(22917, 22918, 22921, 22920)</td>\n",
       "      <td>(22916)</td>\n",
       "      <td>0.985612</td>\n",
       "    </tr>\n",
       "    <tr>\n",
       "      <th>8227</th>\n",
       "      <td>(22917, 22916, 22921, 22920)</td>\n",
       "      <td>(22918)</td>\n",
       "      <td>0.985612</td>\n",
       "    </tr>\n",
       "    <tr>\n",
       "      <th>8300</th>\n",
       "      <td>(22917, 22919, 22921, 22920)</td>\n",
       "      <td>(22918)</td>\n",
       "      <td>0.985294</td>\n",
       "    </tr>\n",
       "    <tr>\n",
       "      <th>8329</th>\n",
       "      <td>(22919, 22916, 22921, 22920)</td>\n",
       "      <td>(22918)</td>\n",
       "      <td>0.985294</td>\n",
       "    </tr>\n",
       "    <tr>\n",
       "      <th>8387</th>\n",
       "      <td>(22916, 22918, 22921, 22919, 22920)</td>\n",
       "      <td>(22917)</td>\n",
       "      <td>0.985075</td>\n",
       "    </tr>\n",
       "    <tr>\n",
       "      <th>8391</th>\n",
       "      <td>(22918, 22921, 22919, 22917, 22920)</td>\n",
       "      <td>(22916)</td>\n",
       "      <td>0.985075</td>\n",
       "    </tr>\n",
       "    <tr>\n",
       "      <th>15883</th>\n",
       "      <td>(23170, 23172, 22697)</td>\n",
       "      <td>(23171)</td>\n",
       "      <td>0.981308</td>\n",
       "    </tr>\n",
       "    <tr>\n",
       "      <th>15636</th>\n",
       "      <td>(23170, 23174, 23172)</td>\n",
       "      <td>(23171)</td>\n",
       "      <td>0.981132</td>\n",
       "    </tr>\n",
       "  </tbody>\n",
       "</table>\n",
       "</div>"
      ],
      "text/plain": [
       "                               antecedents consequents  confidence\n",
       "8390   (22916, 22921, 22919, 22917, 22920)     (22918)    0.992481\n",
       "8131          (22917, 22919, 22916, 22921)     (22918)    0.985915\n",
       "8228          (22917, 22918, 22921, 22920)     (22916)    0.985612\n",
       "8227          (22917, 22916, 22921, 22920)     (22918)    0.985612\n",
       "8300          (22917, 22919, 22921, 22920)     (22918)    0.985294\n",
       "8329          (22919, 22916, 22921, 22920)     (22918)    0.985294\n",
       "8387   (22916, 22918, 22921, 22919, 22920)     (22917)    0.985075\n",
       "8391   (22918, 22921, 22919, 22917, 22920)     (22916)    0.985075\n",
       "15883                (23170, 23172, 22697)     (23171)    0.981308\n",
       "15636                (23170, 23174, 23172)     (23171)    0.981132"
      ]
     },
     "execution_count": 34,
     "metadata": {},
     "output_type": "execute_result"
    }
   ],
   "source": [
    "# antecedents is basket\n",
    "# consequents is nex_product\n",
    "# confidence is probablity\n",
    "\n",
    "rules = rules_fp[['antecedents', 'consequents', 'confidence']]\n",
    "\n",
    "associations=rules.sort_values(by='confidence',ascending=False)\n",
    "print('Dimensions of the association table are : ', associations.shape)\n",
    "associations.head(10)"
   ]
  },
  {
   "cell_type": "code",
   "execution_count": 35,
   "metadata": {},
   "outputs": [],
   "source": [
    "# Rename columns in associations DataFrame\n",
    "associations.rename(columns={'antecedents': 'basket', 'consequents': 'product_to_recommend', 'confidence': 'probability'}, inplace=True)"
   ]
  },
  {
   "cell_type": "code",
   "execution_count": 36,
   "metadata": {},
   "outputs": [],
   "source": [
    "# # Convert frozenset to list\n",
    "# associations['basket'] = associations['basket'].apply(list)\n",
    "# associations['product_to_recommend'] = associations['product_to_recommend'].apply(list)\n",
    "\n",
    "# associations"
   ]
  },
  {
   "cell_type": "code",
   "execution_count": 37,
   "metadata": {},
   "outputs": [],
   "source": [
    "# Sort DataFrame by 'InvoiceDate' in descending order\n",
    "df = data.sort_values(by='InvoiceDate', ascending=False)\n",
    "\n",
    "# Get unit prices and descriptions\n",
    "unit_prices = df.groupby('StockCode')['UnitPrice'].first()\n",
    "product_descriptions = df.groupby('StockCode')['Description'].first()\n"
   ]
  },
  {
   "cell_type": "code",
   "execution_count": 38,
   "metadata": {},
   "outputs": [],
   "source": [
    "def get_price(product_ids):\n",
    "    return round(sum(unit_prices.get(product_id, 0) for product_id in product_ids), 2)\n",
    "\n",
    "def get_description(product_ids):\n",
    "    return ', '.join(product_descriptions.get(product_id, '') for product_id in product_ids)\n"
   ]
  },
  {
   "cell_type": "code",
   "execution_count": 39,
   "metadata": {},
   "outputs": [
    {
     "data": {
      "text/html": [
       "<div>\n",
       "<style scoped>\n",
       "    .dataframe tbody tr th:only-of-type {\n",
       "        vertical-align: middle;\n",
       "    }\n",
       "\n",
       "    .dataframe tbody tr th {\n",
       "        vertical-align: top;\n",
       "    }\n",
       "\n",
       "    .dataframe thead th {\n",
       "        text-align: right;\n",
       "    }\n",
       "</style>\n",
       "<table border=\"1\" class=\"dataframe\">\n",
       "  <thead>\n",
       "    <tr style=\"text-align: right;\">\n",
       "      <th></th>\n",
       "      <th>basket</th>\n",
       "      <th>product_to_recommend</th>\n",
       "      <th>probability</th>\n",
       "      <th>price</th>\n",
       "      <th>description</th>\n",
       "    </tr>\n",
       "  </thead>\n",
       "  <tbody>\n",
       "    <tr>\n",
       "      <th>8390</th>\n",
       "      <td>(22916, 22921, 22919, 22917, 22920)</td>\n",
       "      <td>(22918)</td>\n",
       "      <td>0.992481</td>\n",
       "      <td>0.65</td>\n",
       "      <td>HERB MARKER PARSLEY</td>\n",
       "    </tr>\n",
       "    <tr>\n",
       "      <th>8131</th>\n",
       "      <td>(22917, 22919, 22916, 22921)</td>\n",
       "      <td>(22918)</td>\n",
       "      <td>0.985915</td>\n",
       "      <td>0.65</td>\n",
       "      <td>HERB MARKER PARSLEY</td>\n",
       "    </tr>\n",
       "    <tr>\n",
       "      <th>8228</th>\n",
       "      <td>(22917, 22918, 22921, 22920)</td>\n",
       "      <td>(22916)</td>\n",
       "      <td>0.985612</td>\n",
       "      <td>0.65</td>\n",
       "      <td>HERB MARKER THYME</td>\n",
       "    </tr>\n",
       "    <tr>\n",
       "      <th>8227</th>\n",
       "      <td>(22917, 22916, 22921, 22920)</td>\n",
       "      <td>(22918)</td>\n",
       "      <td>0.985612</td>\n",
       "      <td>0.65</td>\n",
       "      <td>HERB MARKER PARSLEY</td>\n",
       "    </tr>\n",
       "    <tr>\n",
       "      <th>8300</th>\n",
       "      <td>(22917, 22919, 22921, 22920)</td>\n",
       "      <td>(22918)</td>\n",
       "      <td>0.985294</td>\n",
       "      <td>0.65</td>\n",
       "      <td>HERB MARKER PARSLEY</td>\n",
       "    </tr>\n",
       "    <tr>\n",
       "      <th>...</th>\n",
       "      <td>...</td>\n",
       "      <td>...</td>\n",
       "      <td>...</td>\n",
       "      <td>...</td>\n",
       "      <td>...</td>\n",
       "    </tr>\n",
       "    <tr>\n",
       "      <th>10562</th>\n",
       "      <td>(85123A)</td>\n",
       "      <td>(84596B)</td>\n",
       "      <td>0.046512</td>\n",
       "      <td>0.42</td>\n",
       "      <td>SMALL DOLLY MIX DESIGN ORANGE BOWL</td>\n",
       "    </tr>\n",
       "    <tr>\n",
       "      <th>7443</th>\n",
       "      <td>(85123A)</td>\n",
       "      <td>(21790)</td>\n",
       "      <td>0.046512</td>\n",
       "      <td>0.85</td>\n",
       "      <td>VINTAGE SNAP CARDS</td>\n",
       "    </tr>\n",
       "    <tr>\n",
       "      <th>12253</th>\n",
       "      <td>(85123A)</td>\n",
       "      <td>(23207)</td>\n",
       "      <td>0.046512</td>\n",
       "      <td>1.65</td>\n",
       "      <td>LUNCH BAG ALPHABET DESIGN</td>\n",
       "    </tr>\n",
       "    <tr>\n",
       "      <th>2001</th>\n",
       "      <td>(85123A)</td>\n",
       "      <td>(22464)</td>\n",
       "      <td>0.046512</td>\n",
       "      <td>0.79</td>\n",
       "      <td>HANGING METAL HEART LANTERN</td>\n",
       "    </tr>\n",
       "    <tr>\n",
       "      <th>14789</th>\n",
       "      <td>(85123A)</td>\n",
       "      <td>(23202)</td>\n",
       "      <td>0.046512</td>\n",
       "      <td>2.08</td>\n",
       "      <td>JUMBO BAG VINTAGE LEAF</td>\n",
       "    </tr>\n",
       "  </tbody>\n",
       "</table>\n",
       "<p>16636 rows × 5 columns</p>\n",
       "</div>"
      ],
      "text/plain": [
       "                                    basket product_to_recommend  probability  \\\n",
       "8390   (22916, 22921, 22919, 22917, 22920)              (22918)     0.992481   \n",
       "8131          (22917, 22919, 22916, 22921)              (22918)     0.985915   \n",
       "8228          (22917, 22918, 22921, 22920)              (22916)     0.985612   \n",
       "8227          (22917, 22916, 22921, 22920)              (22918)     0.985612   \n",
       "8300          (22917, 22919, 22921, 22920)              (22918)     0.985294   \n",
       "...                                    ...                  ...          ...   \n",
       "10562                             (85123A)             (84596B)     0.046512   \n",
       "7443                              (85123A)              (21790)     0.046512   \n",
       "12253                             (85123A)              (23207)     0.046512   \n",
       "2001                              (85123A)              (22464)     0.046512   \n",
       "14789                             (85123A)              (23202)     0.046512   \n",
       "\n",
       "       price                         description  \n",
       "8390    0.65                 HERB MARKER PARSLEY  \n",
       "8131    0.65                 HERB MARKER PARSLEY  \n",
       "8228    0.65                   HERB MARKER THYME  \n",
       "8227    0.65                 HERB MARKER PARSLEY  \n",
       "8300    0.65                 HERB MARKER PARSLEY  \n",
       "...      ...                                 ...  \n",
       "10562   0.42  SMALL DOLLY MIX DESIGN ORANGE BOWL  \n",
       "7443    0.85                  VINTAGE SNAP CARDS  \n",
       "12253   1.65           LUNCH BAG ALPHABET DESIGN  \n",
       "2001    0.79         HANGING METAL HEART LANTERN  \n",
       "14789   2.08              JUMBO BAG VINTAGE LEAF  \n",
       "\n",
       "[16636 rows x 5 columns]"
      ]
     },
     "execution_count": 39,
     "metadata": {},
     "output_type": "execute_result"
    }
   ],
   "source": [
    "# Apply functions to create new columns\n",
    "associations[\"price\"] = associations[\"product_to_recommend\"].apply(get_price)\n",
    "associations[\"description\"] = associations[\"product_to_recommend\"].apply(get_description)\n",
    "\n",
    "associations"
   ]
  },
  {
   "cell_type": "code",
   "execution_count": 40,
   "metadata": {},
   "outputs": [
    {
     "name": "stdout",
     "output_type": "stream",
     "text": [
      "Top 10 Recommendations for 21756\n"
     ]
    },
    {
     "data": {
      "text/html": [
       "<div>\n",
       "<style scoped>\n",
       "    .dataframe tbody tr th:only-of-type {\n",
       "        vertical-align: middle;\n",
       "    }\n",
       "\n",
       "    .dataframe tbody tr th {\n",
       "        vertical-align: top;\n",
       "    }\n",
       "\n",
       "    .dataframe thead th {\n",
       "        text-align: right;\n",
       "    }\n",
       "</style>\n",
       "<table border=\"1\" class=\"dataframe\">\n",
       "  <thead>\n",
       "    <tr style=\"text-align: right;\">\n",
       "      <th></th>\n",
       "      <th>basket</th>\n",
       "      <th>product_to_recommend</th>\n",
       "      <th>probability</th>\n",
       "      <th>price</th>\n",
       "      <th>description</th>\n",
       "    </tr>\n",
       "  </thead>\n",
       "  <tbody>\n",
       "    <tr>\n",
       "      <th>148</th>\n",
       "      <td>(21756)</td>\n",
       "      <td>(21754)</td>\n",
       "      <td>0.578512</td>\n",
       "      <td>6.25</td>\n",
       "      <td>HOME BUILDING BLOCK WORD</td>\n",
       "    </tr>\n",
       "    <tr>\n",
       "      <th>150</th>\n",
       "      <td>(21756)</td>\n",
       "      <td>(21755)</td>\n",
       "      <td>0.404959</td>\n",
       "      <td>6.25</td>\n",
       "      <td>LOVE BUILDING BLOCK WORD</td>\n",
       "    </tr>\n",
       "  </tbody>\n",
       "</table>\n",
       "</div>"
      ],
      "text/plain": [
       "      basket product_to_recommend  probability  price  \\\n",
       "148  (21756)              (21754)     0.578512   6.25   \n",
       "150  (21756)              (21755)     0.404959   6.25   \n",
       "\n",
       "                  description  \n",
       "148  HOME BUILDING BLOCK WORD  \n",
       "150  LOVE BUILDING BLOCK WORD  "
      ]
     },
     "execution_count": 40,
     "metadata": {},
     "output_type": "execute_result"
    }
   ],
   "source": [
    "# Define the product list for which you want recommendations\n",
    "product_of_interest = '21756'\n",
    "\n",
    "# Filter association rules for the product of interest\n",
    "filtered_rules =  associations[associations['basket'] == frozenset({product_of_interest})]\n",
    "\n",
    "# Sort the filtered rules based on lift (or any other relevant metric)\n",
    "top_recommendations = filtered_rules.sort_values(by='probability', ascending=False).head(10)\n",
    "\n",
    "# Display the top recommendations\n",
    "print(\"Top 10 Recommendations for\", product_of_interest)\n",
    "top_recommendations\n"
   ]
  },
  {
   "cell_type": "code",
   "execution_count": 41,
   "metadata": {},
   "outputs": [
    {
     "name": "stdout",
     "output_type": "stream",
     "text": [
      "Top 10 Recommendations for 22920\n"
     ]
    },
    {
     "data": {
      "text/html": [
       "<div>\n",
       "<style scoped>\n",
       "    .dataframe tbody tr th:only-of-type {\n",
       "        vertical-align: middle;\n",
       "    }\n",
       "\n",
       "    .dataframe tbody tr th {\n",
       "        vertical-align: top;\n",
       "    }\n",
       "\n",
       "    .dataframe thead th {\n",
       "        text-align: right;\n",
       "    }\n",
       "</style>\n",
       "<table border=\"1\" class=\"dataframe\">\n",
       "  <thead>\n",
       "    <tr style=\"text-align: right;\">\n",
       "      <th></th>\n",
       "      <th>basket</th>\n",
       "      <th>product_to_recommend</th>\n",
       "      <th>probability</th>\n",
       "      <th>price</th>\n",
       "      <th>description</th>\n",
       "    </tr>\n",
       "  </thead>\n",
       "  <tbody>\n",
       "    <tr>\n",
       "      <th>7849</th>\n",
       "      <td>(22920)</td>\n",
       "      <td>(22917)</td>\n",
       "      <td>0.914894</td>\n",
       "      <td>0.65</td>\n",
       "      <td>HERB MARKER ROSEMARY</td>\n",
       "    </tr>\n",
       "    <tr>\n",
       "      <th>7863</th>\n",
       "      <td>(22920)</td>\n",
       "      <td>(22918)</td>\n",
       "      <td>0.904255</td>\n",
       "      <td>0.65</td>\n",
       "      <td>HERB MARKER PARSLEY</td>\n",
       "    </tr>\n",
       "    <tr>\n",
       "      <th>7901</th>\n",
       "      <td>(22920)</td>\n",
       "      <td>(22916)</td>\n",
       "      <td>0.898936</td>\n",
       "      <td>0.65</td>\n",
       "      <td>HERB MARKER THYME</td>\n",
       "    </tr>\n",
       "    <tr>\n",
       "      <th>7851</th>\n",
       "      <td>(22920)</td>\n",
       "      <td>(22919)</td>\n",
       "      <td>0.893617</td>\n",
       "      <td>0.65</td>\n",
       "      <td>HERB MARKER MINT</td>\n",
       "    </tr>\n",
       "    <tr>\n",
       "      <th>7915</th>\n",
       "      <td>(22920)</td>\n",
       "      <td>(22917, 22916)</td>\n",
       "      <td>0.861702</td>\n",
       "      <td>1.30</td>\n",
       "      <td>HERB MARKER ROSEMARY, HERB MARKER THYME</td>\n",
       "    </tr>\n",
       "    <tr>\n",
       "      <th>7875</th>\n",
       "      <td>(22920)</td>\n",
       "      <td>(22917, 22918)</td>\n",
       "      <td>0.845745</td>\n",
       "      <td>1.30</td>\n",
       "      <td>HERB MARKER ROSEMARY, HERB MARKER PARSLEY</td>\n",
       "    </tr>\n",
       "    <tr>\n",
       "      <th>7857</th>\n",
       "      <td>(22920)</td>\n",
       "      <td>(22917, 22919)</td>\n",
       "      <td>0.845745</td>\n",
       "      <td>1.30</td>\n",
       "      <td>HERB MARKER ROSEMARY, HERB MARKER MINT</td>\n",
       "    </tr>\n",
       "    <tr>\n",
       "      <th>7921</th>\n",
       "      <td>(22920)</td>\n",
       "      <td>(22916, 22918)</td>\n",
       "      <td>0.840426</td>\n",
       "      <td>1.30</td>\n",
       "      <td>HERB MARKER THYME, HERB MARKER PARSLEY</td>\n",
       "    </tr>\n",
       "    <tr>\n",
       "      <th>7881</th>\n",
       "      <td>(22920)</td>\n",
       "      <td>(22919, 22918)</td>\n",
       "      <td>0.829787</td>\n",
       "      <td>1.30</td>\n",
       "      <td>HERB MARKER MINT, HERB MARKER PARSLEY</td>\n",
       "    </tr>\n",
       "    <tr>\n",
       "      <th>7953</th>\n",
       "      <td>(22920)</td>\n",
       "      <td>(22919, 22916)</td>\n",
       "      <td>0.829787</td>\n",
       "      <td>1.30</td>\n",
       "      <td>HERB MARKER MINT, HERB MARKER THYME</td>\n",
       "    </tr>\n",
       "  </tbody>\n",
       "</table>\n",
       "</div>"
      ],
      "text/plain": [
       "       basket product_to_recommend  probability  price  \\\n",
       "7849  (22920)              (22917)     0.914894   0.65   \n",
       "7863  (22920)              (22918)     0.904255   0.65   \n",
       "7901  (22920)              (22916)     0.898936   0.65   \n",
       "7851  (22920)              (22919)     0.893617   0.65   \n",
       "7915  (22920)       (22917, 22916)     0.861702   1.30   \n",
       "7875  (22920)       (22917, 22918)     0.845745   1.30   \n",
       "7857  (22920)       (22917, 22919)     0.845745   1.30   \n",
       "7921  (22920)       (22916, 22918)     0.840426   1.30   \n",
       "7881  (22920)       (22919, 22918)     0.829787   1.30   \n",
       "7953  (22920)       (22919, 22916)     0.829787   1.30   \n",
       "\n",
       "                                    description  \n",
       "7849                       HERB MARKER ROSEMARY  \n",
       "7863                        HERB MARKER PARSLEY  \n",
       "7901                          HERB MARKER THYME  \n",
       "7851                           HERB MARKER MINT  \n",
       "7915    HERB MARKER ROSEMARY, HERB MARKER THYME  \n",
       "7875  HERB MARKER ROSEMARY, HERB MARKER PARSLEY  \n",
       "7857     HERB MARKER ROSEMARY, HERB MARKER MINT  \n",
       "7921     HERB MARKER THYME, HERB MARKER PARSLEY  \n",
       "7881      HERB MARKER MINT, HERB MARKER PARSLEY  \n",
       "7953        HERB MARKER MINT, HERB MARKER THYME  "
      ]
     },
     "execution_count": 41,
     "metadata": {},
     "output_type": "execute_result"
    }
   ],
   "source": [
    "# Define the product for which you want recommendations\n",
    "product_of_interest = '22920'\n",
    "\n",
    "# Filter association rules for the product of interest\n",
    "filtered_rules =  associations[associations['basket'] == frozenset({product_of_interest})]\n",
    "\n",
    "# Sort the filtered rules based on lift (or any other relevant metric)\n",
    "top_recommendations = filtered_rules.sort_values(by='probability', ascending=False).head(10)\n",
    "\n",
    "# Display the top recommendations\n",
    "print(\"Top 10 Recommendations for\", product_of_interest)\n",
    "top_recommendations\n"
   ]
  },
  {
   "cell_type": "markdown",
   "metadata": {},
   "source": [
    "# Results"
   ]
  },
  {
   "cell_type": "markdown",
   "metadata": {},
   "source": [
    "#### Anticipation of customer needs :"
   ]
  },
  {
   "cell_type": "code",
   "execution_count": 42,
   "metadata": {},
   "outputs": [
    {
     "name": "stdout",
     "output_type": "stream",
     "text": [
      "On average, the recommendation system can predict in 36.67114585471023 % of the cases the next product that the customer will buy.\n"
     ]
    }
   ],
   "source": [
    "print('On average, the recommendation system can predict in', associations['probability'].mean() * 100, '% of the cases the next product that the customer will buy.')\n"
   ]
  },
  {
   "cell_type": "markdown",
   "metadata": {},
   "source": [
    "#### Turnover generated :"
   ]
  },
  {
   "cell_type": "code",
   "execution_count": 43,
   "metadata": {},
   "outputs": [
    {
     "name": "stdout",
     "output_type": "stream",
     "text": [
      "With only 1 single product proposed, the recommendation system can generate a turnover in this case up to: 51735 euros.\n"
     ]
    }
   ],
   "source": [
    "print('With only 1 single product proposed, the recommendation system can generate a turnover in this case up to:', round(associations['price'].sum()), 'euros.')\n"
   ]
  },
  {
   "cell_type": "markdown",
   "metadata": {},
   "source": [
    "Among a product catalog of more than 3000 items, a simple model based on association rules can predict in approximately **37%** of the cases the next product that the customer will buy, thereby generating significant additional revenue.\n",
    "\n",
    "The advantage of this model lies in its high accuracy while being easy to implement and explain. Unlike some other artificial intelligence models that may appear as \"black boxes\" due to their complexity, the results of the FP-Growth model are understandable. In the association table, you will find all the rules specific to your business. For instance, if your customers frequently purchase product A and product B together, you will immediately see this association in your association table!"
   ]
  },
  {
   "cell_type": "markdown",
   "metadata": {},
   "source": [
    "# Operationalize"
   ]
  },
  {
   "cell_type": "code",
   "execution_count": 44,
   "metadata": {},
   "outputs": [],
   "source": [
    "# associations.to_csv(\"association_rules.csv\")\n",
    "\n",
    "# frequent_itemsets_fp.to_csv(\"frequent_itemsets_fp.csv\")\n",
    "\n",
    "# unit_prices.to_csv(\"unit_prices.csv\")\n",
    "\n"
   ]
  },
  {
   "cell_type": "code",
   "execution_count": 45,
   "metadata": {},
   "outputs": [
    {
     "data": {
      "text/html": [
       "<div>\n",
       "<style scoped>\n",
       "    .dataframe tbody tr th:only-of-type {\n",
       "        vertical-align: middle;\n",
       "    }\n",
       "\n",
       "    .dataframe tbody tr th {\n",
       "        vertical-align: top;\n",
       "    }\n",
       "\n",
       "    .dataframe thead th {\n",
       "        text-align: right;\n",
       "    }\n",
       "</style>\n",
       "<table border=\"1\" class=\"dataframe\">\n",
       "  <thead>\n",
       "    <tr style=\"text-align: right;\">\n",
       "      <th></th>\n",
       "      <th>antecedents</th>\n",
       "      <th>consequents</th>\n",
       "      <th>antecedent support</th>\n",
       "      <th>consequent support</th>\n",
       "      <th>support</th>\n",
       "      <th>confidence</th>\n",
       "      <th>lift</th>\n",
       "      <th>leverage</th>\n",
       "      <th>conviction</th>\n",
       "      <th>zhangs_metric</th>\n",
       "    </tr>\n",
       "  </thead>\n",
       "  <tbody>\n",
       "    <tr>\n",
       "      <th>0</th>\n",
       "      <td>(22111)</td>\n",
       "      <td>(84029E)</td>\n",
       "      <td>0.035654</td>\n",
       "      <td>0.017447</td>\n",
       "      <td>0.005489</td>\n",
       "      <td>0.153963</td>\n",
       "      <td>8.824838</td>\n",
       "      <td>0.004867</td>\n",
       "      <td>1.161360</td>\n",
       "      <td>0.919466</td>\n",
       "    </tr>\n",
       "    <tr>\n",
       "      <th>1</th>\n",
       "      <td>(84029E)</td>\n",
       "      <td>(22111)</td>\n",
       "      <td>0.017447</td>\n",
       "      <td>0.035654</td>\n",
       "      <td>0.005489</td>\n",
       "      <td>0.314642</td>\n",
       "      <td>8.824838</td>\n",
       "      <td>0.004867</td>\n",
       "      <td>1.407068</td>\n",
       "      <td>0.902428</td>\n",
       "    </tr>\n",
       "    <tr>\n",
       "      <th>2</th>\n",
       "      <td>(84029E)</td>\n",
       "      <td>(21485)</td>\n",
       "      <td>0.017447</td>\n",
       "      <td>0.028969</td>\n",
       "      <td>0.005326</td>\n",
       "      <td>0.305296</td>\n",
       "      <td>10.538725</td>\n",
       "      <td>0.004821</td>\n",
       "      <td>1.397762</td>\n",
       "      <td>0.921183</td>\n",
       "    </tr>\n",
       "    <tr>\n",
       "      <th>3</th>\n",
       "      <td>(21485)</td>\n",
       "      <td>(84029E)</td>\n",
       "      <td>0.028969</td>\n",
       "      <td>0.017447</td>\n",
       "      <td>0.005326</td>\n",
       "      <td>0.183865</td>\n",
       "      <td>10.538725</td>\n",
       "      <td>0.004821</td>\n",
       "      <td>1.203910</td>\n",
       "      <td>0.932114</td>\n",
       "    </tr>\n",
       "    <tr>\n",
       "      <th>4</th>\n",
       "      <td>(22112)</td>\n",
       "      <td>(84029E)</td>\n",
       "      <td>0.038046</td>\n",
       "      <td>0.017447</td>\n",
       "      <td>0.005163</td>\n",
       "      <td>0.135714</td>\n",
       "      <td>7.778838</td>\n",
       "      <td>0.004500</td>\n",
       "      <td>1.136839</td>\n",
       "      <td>0.905912</td>\n",
       "    </tr>\n",
       "    <tr>\n",
       "      <th>...</th>\n",
       "      <td>...</td>\n",
       "      <td>...</td>\n",
       "      <td>...</td>\n",
       "      <td>...</td>\n",
       "      <td>...</td>\n",
       "      <td>...</td>\n",
       "      <td>...</td>\n",
       "      <td>...</td>\n",
       "      <td>...</td>\n",
       "      <td>...</td>\n",
       "    </tr>\n",
       "    <tr>\n",
       "      <th>16631</th>\n",
       "      <td>(23581)</td>\n",
       "      <td>(23583)</td>\n",
       "      <td>0.016414</td>\n",
       "      <td>0.016197</td>\n",
       "      <td>0.007283</td>\n",
       "      <td>0.443709</td>\n",
       "      <td>27.395284</td>\n",
       "      <td>0.007017</td>\n",
       "      <td>1.768504</td>\n",
       "      <td>0.979576</td>\n",
       "    </tr>\n",
       "    <tr>\n",
       "      <th>16632</th>\n",
       "      <td>(23581)</td>\n",
       "      <td>(23344)</td>\n",
       "      <td>0.016414</td>\n",
       "      <td>0.031850</td>\n",
       "      <td>0.005272</td>\n",
       "      <td>0.321192</td>\n",
       "      <td>10.084663</td>\n",
       "      <td>0.004749</td>\n",
       "      <td>1.426251</td>\n",
       "      <td>0.915873</td>\n",
       "    </tr>\n",
       "    <tr>\n",
       "      <th>16633</th>\n",
       "      <td>(23344)</td>\n",
       "      <td>(23581)</td>\n",
       "      <td>0.031850</td>\n",
       "      <td>0.016414</td>\n",
       "      <td>0.005272</td>\n",
       "      <td>0.165529</td>\n",
       "      <td>10.084663</td>\n",
       "      <td>0.004749</td>\n",
       "      <td>1.178694</td>\n",
       "      <td>0.930475</td>\n",
       "    </tr>\n",
       "    <tr>\n",
       "      <th>16634</th>\n",
       "      <td>(23203)</td>\n",
       "      <td>(23581)</td>\n",
       "      <td>0.058699</td>\n",
       "      <td>0.016414</td>\n",
       "      <td>0.005109</td>\n",
       "      <td>0.087037</td>\n",
       "      <td>5.302631</td>\n",
       "      <td>0.004145</td>\n",
       "      <td>1.077356</td>\n",
       "      <td>0.862014</td>\n",
       "    </tr>\n",
       "    <tr>\n",
       "      <th>16635</th>\n",
       "      <td>(23581)</td>\n",
       "      <td>(23203)</td>\n",
       "      <td>0.016414</td>\n",
       "      <td>0.058699</td>\n",
       "      <td>0.005109</td>\n",
       "      <td>0.311258</td>\n",
       "      <td>5.302631</td>\n",
       "      <td>0.004145</td>\n",
       "      <td>1.366697</td>\n",
       "      <td>0.824955</td>\n",
       "    </tr>\n",
       "  </tbody>\n",
       "</table>\n",
       "<p>16636 rows × 10 columns</p>\n",
       "</div>"
      ],
      "text/plain": [
       "      antecedents consequents  antecedent support  consequent support  \\\n",
       "0         (22111)    (84029E)            0.035654            0.017447   \n",
       "1        (84029E)     (22111)            0.017447            0.035654   \n",
       "2        (84029E)     (21485)            0.017447            0.028969   \n",
       "3         (21485)    (84029E)            0.028969            0.017447   \n",
       "4         (22112)    (84029E)            0.038046            0.017447   \n",
       "...           ...         ...                 ...                 ...   \n",
       "16631     (23581)     (23583)            0.016414            0.016197   \n",
       "16632     (23581)     (23344)            0.016414            0.031850   \n",
       "16633     (23344)     (23581)            0.031850            0.016414   \n",
       "16634     (23203)     (23581)            0.058699            0.016414   \n",
       "16635     (23581)     (23203)            0.016414            0.058699   \n",
       "\n",
       "        support  confidence       lift  leverage  conviction  zhangs_metric  \n",
       "0      0.005489    0.153963   8.824838  0.004867    1.161360       0.919466  \n",
       "1      0.005489    0.314642   8.824838  0.004867    1.407068       0.902428  \n",
       "2      0.005326    0.305296  10.538725  0.004821    1.397762       0.921183  \n",
       "3      0.005326    0.183865  10.538725  0.004821    1.203910       0.932114  \n",
       "4      0.005163    0.135714   7.778838  0.004500    1.136839       0.905912  \n",
       "...         ...         ...        ...       ...         ...            ...  \n",
       "16631  0.007283    0.443709  27.395284  0.007017    1.768504       0.979576  \n",
       "16632  0.005272    0.321192  10.084663  0.004749    1.426251       0.915873  \n",
       "16633  0.005272    0.165529  10.084663  0.004749    1.178694       0.930475  \n",
       "16634  0.005109    0.087037   5.302631  0.004145    1.077356       0.862014  \n",
       "16635  0.005109    0.311258   5.302631  0.004145    1.366697       0.824955  \n",
       "\n",
       "[16636 rows x 10 columns]"
      ]
     },
     "execution_count": 45,
     "metadata": {},
     "output_type": "execute_result"
    }
   ],
   "source": [
    "rules_fp"
   ]
  },
  {
   "cell_type": "code",
   "execution_count": 46,
   "metadata": {},
   "outputs": [
    {
     "data": {
      "text/html": [
       "<div>\n",
       "<style scoped>\n",
       "    .dataframe tbody tr th:only-of-type {\n",
       "        vertical-align: middle;\n",
       "    }\n",
       "\n",
       "    .dataframe tbody tr th {\n",
       "        vertical-align: top;\n",
       "    }\n",
       "\n",
       "    .dataframe thead th {\n",
       "        text-align: right;\n",
       "    }\n",
       "</style>\n",
       "<table border=\"1\" class=\"dataframe\">\n",
       "  <thead>\n",
       "    <tr style=\"text-align: right;\">\n",
       "      <th></th>\n",
       "      <th>support</th>\n",
       "      <th>itemsets</th>\n",
       "    </tr>\n",
       "  </thead>\n",
       "  <tbody>\n",
       "    <tr>\n",
       "      <th>0</th>\n",
       "      <td>0.107506</td>\n",
       "      <td>(85123A)</td>\n",
       "    </tr>\n",
       "    <tr>\n",
       "      <th>1</th>\n",
       "      <td>0.017447</td>\n",
       "      <td>(84029E)</td>\n",
       "    </tr>\n",
       "    <tr>\n",
       "      <th>2</th>\n",
       "      <td>0.017338</td>\n",
       "      <td>(84029G)</td>\n",
       "    </tr>\n",
       "    <tr>\n",
       "      <th>3</th>\n",
       "      <td>0.016142</td>\n",
       "      <td>(22752)</td>\n",
       "    </tr>\n",
       "    <tr>\n",
       "      <th>4</th>\n",
       "      <td>0.013588</td>\n",
       "      <td>(71053)</td>\n",
       "    </tr>\n",
       "    <tr>\n",
       "      <th>...</th>\n",
       "      <td>...</td>\n",
       "      <td>...</td>\n",
       "    </tr>\n",
       "    <tr>\n",
       "      <th>4537</th>\n",
       "      <td>0.005381</td>\n",
       "      <td>(23583, 23209)</td>\n",
       "    </tr>\n",
       "    <tr>\n",
       "      <th>4538</th>\n",
       "      <td>0.005055</td>\n",
       "      <td>(23583, 20727)</td>\n",
       "    </tr>\n",
       "    <tr>\n",
       "      <th>4539</th>\n",
       "      <td>0.007283</td>\n",
       "      <td>(23583, 23581)</td>\n",
       "    </tr>\n",
       "    <tr>\n",
       "      <th>4540</th>\n",
       "      <td>0.005272</td>\n",
       "      <td>(23581, 23344)</td>\n",
       "    </tr>\n",
       "    <tr>\n",
       "      <th>4541</th>\n",
       "      <td>0.005109</td>\n",
       "      <td>(23203, 23581)</td>\n",
       "    </tr>\n",
       "  </tbody>\n",
       "</table>\n",
       "<p>4542 rows × 2 columns</p>\n",
       "</div>"
      ],
      "text/plain": [
       "       support        itemsets\n",
       "0     0.107506        (85123A)\n",
       "1     0.017447        (84029E)\n",
       "2     0.017338        (84029G)\n",
       "3     0.016142         (22752)\n",
       "4     0.013588         (71053)\n",
       "...        ...             ...\n",
       "4537  0.005381  (23583, 23209)\n",
       "4538  0.005055  (23583, 20727)\n",
       "4539  0.007283  (23583, 23581)\n",
       "4540  0.005272  (23581, 23344)\n",
       "4541  0.005109  (23203, 23581)\n",
       "\n",
       "[4542 rows x 2 columns]"
      ]
     },
     "execution_count": 46,
     "metadata": {},
     "output_type": "execute_result"
    }
   ],
   "source": [
    "frequent_itemsets_fp"
   ]
  },
  {
   "cell_type": "code",
   "execution_count": 47,
   "metadata": {},
   "outputs": [
    {
     "data": {
      "text/plain": [
       "StockCode\n",
       "10002     0.85\n",
       "10080     0.39\n",
       "10120     0.21\n",
       "10123C    0.65\n",
       "10124A    0.42\n",
       "          ... \n",
       "90214U    0.29\n",
       "90214V    0.29\n",
       "90214W    0.29\n",
       "90214Y    0.29\n",
       "90214Z    0.29\n",
       "Name: UnitPrice, Length: 3657, dtype: float64"
      ]
     },
     "execution_count": 47,
     "metadata": {},
     "output_type": "execute_result"
    }
   ],
   "source": [
    "unit_prices"
   ]
  },
  {
   "cell_type": "code",
   "execution_count": 48,
   "metadata": {},
   "outputs": [],
   "source": [
    "# Function to get bundle for a product ID\n",
    "def get_bundle(product_id, associations=associations,frequent_itemsets_fp=frequent_itemsets_fp, num_products=5):\n",
    "    if product_id in associations[\"basket\"].apply(list).explode().values:\n",
    "        # Get association rules related to the provided product ID\n",
    "        product_rules = associations[associations['basket'] == frozenset({product_id})]\n",
    "        bundle_products = []\n",
    "        bundle_price = 0\n",
    "        \n",
    "        if not product_rules.empty:\n",
    "            # Sort by probability to get most relevant associations\n",
    "            product_rules = product_rules.sort_values(by='probability', ascending=False)\n",
    "\n",
    "            # Add products from antecedents and consequents of association rules\n",
    "            for _, row in product_rules.iterrows():\n",
    "                bundle_products = bundle_products + (list(row['product_to_recommend']))\n",
    "                \n",
    "                # Check if the desired number of products is reached\n",
    "                if len(set(bundle_products)) >= num_products:\n",
    "                    break\n",
    "            \n",
    "            bundle_products = list(set(bundle_products))\n",
    "            # Get the total price for the bundle\n",
    "            bundle_price = round(sum(unit_prices.get(product, 0) for product in bundle_products), 2)\n",
    "\n",
    "        if len(bundle_products) < num_products or product_rules.empty:\n",
    "            # If no association rules found for the product, pick from top frequent items\n",
    "            frequent_itemsets = frequent_itemsets_fp.sort_values(\"support\", ascending=False)\n",
    "            frequent_items = list(frequent_itemsets[\"itemsets\"].apply(lambda x: list(x)).explode())\n",
    "            uniques_frequent_items = [x for x in frequent_items if x not in bundle_products]\n",
    "            sample_size = (num_products-len(bundle_products))\n",
    "            bundle_products = list(bundle_products)+ uniques_frequent_items[:sample_size]\n",
    "            bundle_products = list(set(bundle_products))\n",
    "\n",
    "            # Get the total price for the bundle\n",
    "            bundle_price = round(sum(unit_prices.get(product, 0) for product in bundle_products), 2)\n",
    "            \n",
    "            return bundle_products, bundle_price\n",
    "        else:\n",
    "            return list(bundle_products), bundle_price\n",
    "\n",
    "    else:\n",
    "        return \"Product ID not found in the dataset\"\n"
   ]
  },
  {
   "cell_type": "code",
   "execution_count": 49,
   "metadata": {},
   "outputs": [
    {
     "name": "stdout",
     "output_type": "stream",
     "text": [
      "Bundle Products: ['22916', '22918', '22921', '22919', '22917']\n",
      "Bundle Price: 3.25\n"
     ]
    }
   ],
   "source": [
    "# Example usage:\n",
    "product_id = '22920'  # Replace with the desired product ID\n",
    "bundle_result = get_bundle(product_id)\n",
    "if isinstance(bundle_result, tuple):\n",
    "    bundle_products, bundle_price = bundle_result\n",
    "    print(\"Bundle Products:\", bundle_products)\n",
    "    print(\"Bundle Price:\", bundle_price)\n",
    "else:\n",
    "    print(bundle_result)"
   ]
  },
  {
   "cell_type": "code",
   "execution_count": 50,
   "metadata": {},
   "outputs": [
    {
     "name": "stdout",
     "output_type": "stream",
     "text": [
      "Bundle Products: ['22423', '23171', '22699', '23172', '23173']\n",
      "Bundle Price: 28.95\n"
     ]
    }
   ],
   "source": [
    "# Example usage:\n",
    "product_id = '23170'  # Replace with the desired product ID\n",
    "bundle_result = get_bundle(product_id)\n",
    "if isinstance(bundle_result, tuple):\n",
    "    bundle_products, bundle_price = bundle_result\n",
    "    print(\"Bundle Products:\", bundle_products)\n",
    "    print(\"Bundle Price:\", bundle_price)\n",
    "else:\n",
    "    print(bundle_result)"
   ]
  },
  {
   "cell_type": "code",
   "execution_count": null,
   "metadata": {},
   "outputs": [],
   "source": []
  }
 ],
 "metadata": {
  "kernelspec": {
   "display_name": "conrad_rpb",
   "language": "python",
   "name": "python3"
  },
  "language_info": {
   "codemirror_mode": {
    "name": "ipython",
    "version": 3
   },
   "file_extension": ".py",
   "mimetype": "text/x-python",
   "name": "python",
   "nbconvert_exporter": "python",
   "pygments_lexer": "ipython3",
   "version": "3.12.2"
  }
 },
 "nbformat": 4,
 "nbformat_minor": 2
}
